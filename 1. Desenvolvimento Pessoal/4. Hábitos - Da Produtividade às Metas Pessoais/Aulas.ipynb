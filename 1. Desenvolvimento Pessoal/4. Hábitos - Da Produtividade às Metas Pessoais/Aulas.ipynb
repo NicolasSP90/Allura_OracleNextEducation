{
 "cells": [
  {
   "cell_type": "markdown",
   "metadata": {},
   "source": [
    "<h1 style=\"color:cornflowerblue\">Reconhecendo Seus Hábitos</h1>"
   ]
  },
  {
   "cell_type": "markdown",
   "metadata": {},
   "source": [
    "<h2>Objetivos e Metas</h2>\n",
    "<p>\n",
    "É importante que Objetivos sejam traçados para que se tenha clareza no que se deve alcançar. As metas são checkpoints relacionados ao objetivo, que devem ser feitos para alcançar aquele objetivo.\n",
    "<li>Objetivos é sobre o que eu quero alcançar lá na frente. Ex: Fazer natação.\n",
    "<li>Já as metas são ações que pretendo fazer para alcançar meu objetivo maior. Ex: Ir duas vezes por semana.<br>\n",
    "<br>\n",
    "\n",
    "Se necessário podem ser utilizadas ferramentas digitais, como por exemplo, o bloco de notas, evernote, ou outro aplicativo que pode ser visualizado do computador ou celular.\n",
    "</p>"
   ]
  },
  {
   "cell_type": "markdown",
   "metadata": {},
   "source": [
    "<h2>Hábitos</h2>\n",
    "<p>\n",
    "Cada hábito é composto por 3 itens:\n",
    "<li>Deixa (Estímulo);\n",
    "<li>Rotina;\n",
    "<li>Recompensa.<br>\n",
    "<br>\n",
    "\n",
    "A partir disso, podemos utilizar esses itens para estimular hábitos melhores e que se encaixem nas metas e objetivos que temos que alcançar.<br>\n",
    "Ex:Deixa (Estímulo): Deixar um livro na cabeceira da cama; Rotina: Ler um capítulo antes de dormir; Recompensa: Bom sono e leitura em dia. \n",
    "</p>"
   ]
  },
  {
   "cell_type": "markdown",
   "metadata": {},
   "source": [
    "<h2>Loop do Hábito</h2>\n",
    "<p>\n",
    "“Hábitos são sequências de ações aprendidas depois de muita repetição, até que passam a ser executadas com o mínimo de esforço mental.” - Wolfram Schultz, professor de neurociência da Universidade de Cambridge, na Inglaterra.<br>\n",
    "<br>\n",
    "\n",
    "Dessa forma, não basta entender a tríade do hábito (deixa-rotina-recompensa), mas sim alimentar e repetir esse loop, o que pode ser trabalhoso e difícil nos primeiros momentos, até porque já temos hábitos alimentados a anos em cada um de nós. Devem ser encontrados modos de facilitar o início da tríade, como incentivo para que o hábito seja iniciado.\n",
    "</p>"
   ]
  },
  {
   "cell_type": "markdown",
   "metadata": {},
   "source": [
    "<h2>Metas Efetivas com o Método S.M.A.R.T</h2>\n",
    "<p>\n",
    "<li>S (Specific): Especificidade<br>\n",
    "As metas precisam ser específicas. Métas genéricas não contribuem para a efetividade não trazem clareza e possuem resultados subjetivos;<br>\n",
    "<br>\n",
    "\n",
    "<li>M (Measurable): Mensurável<br>\n",
    "Encontrar maneiras de mensurar essa meta, tanto o progresso como uma definição de quando está completa;<br>\n",
    "<br>\n",
    "\n",
    "<li>A (Attainable): Alcançável<br>\n",
    "As metas devem ser reais e possíveis de serem completadas. Não é problema ter metas agressivas, mas devem vir acompanhadas de ações que façam com que sejam possíveis de serem alcançadas.<br>\n",
    "<br>\n",
    "\n",
    "<li>R (Relevant): Relevante<br>\n",
    "Para uma meta ser relevante, ela precisa não só estar alinhada ao propósito de vida, mas também ter impactos positivos.<br>\n",
    "<br>\n",
    "\n",
    "<li>T (Time-related): Temporal<br>\n",
    "Prazos limites são importantes para transformar a procrastinação em ação. Datas precisam ser realistas nas suas definições.<br>\n",
    "</p>"
   ]
  },
  {
   "cell_type": "markdown",
   "metadata": {},
   "source": [
    "<h2>Sugestões de Aplicativos</h2>\n",
    "<p>\n",
    "<li><a href=\"https://evernote.com/pt-br\">Evernote</a>\n",
    "<li><a href=\"https://www.mindmeister.com/\">Mindmeister</a>\n",
    "<li><a href=\"https://www.meistertask.com/pt\">Meister Task</a>\n",
    "<li><a href=\"https://chromewebstore.google.com/detail/marinara-assistente-pomod/lojgmehidjdhhbmpjfamhpkpodfcodef?pli=1\">Marinara: Assistente Pomodoro</a>\n",
    "<li><a href=\"https://apps.apple.com/br/app/momentum-habit-tracker-routines-goals-rituals/id946923599\">Momentum</a>\n",
    "<li><a href=\"https://habitica.com\">Habitica (disponível também para Android e iOS)</a>\n",
    "<li><a href=\"https://www.toodledo.com/\">Toodledo</a>\n",
    "<li><a href=\"https://play.google.com/store/apps/details?id=com.socialnmobile.dictapps.notepad.color.note\">ColorNote</a>\n",
    "<li><a href=\"https://play.google.com/store/apps/details?id=com.firecreek.kanbantasklist\">Kanban Task List</a>\n",
    "<li><a href=\"https://wwws.minhaseconomias.com.br/\">Minhas Economias</a>\n",
    "<li><a href=\"https://play.google.com/store/apps/details?id=com.jp.tsurutan.routintaskmanage&hl=pt_BR\">roubit</a>\n",
    "<li><a href=\"https://pomodoro-tracker.com/\">Pomodoro Tracker</a>\n",
    "<li><a href=\"https://play.google.com/store/apps/details?id=com.apps.dsimpletools.helpmefocus\">Helpme Focus</a>\n",
    "<li><a href=\"https://play.google.com/store/apps/details?id=com.gmail.jmartindev.timetune\">TimeTune</a>\n",
    "<li><a href=\"https://play.google.com/store/apps/details?id=cz.mobilesoft.appblock&hl=pt_BR&pli=1\">AppBlock</a>\n",
    "<li><a href=\"https://play.google.com/store/apps/details?id=com.humanhelper.forhuman.quick&hl=pt\">Auxiliar de memória : Bloco de notas de tarefas</a>\n",
    "<li><a href=\"https://to-do.office.com/tasks/\">To-do (Microsoft)</a>\n",
    "<li><a href=\"https://play.google.com/store/apps/details?id=com.google.android.apps.tasks&hl=pt_BR\">Tarefas (Google)</a>\n",
    "<li><a href=\"https://www.onenote.com/\">One Note (Microsoft)</a>\n",
    "<li><a href=\"https://keep.google.com/\">Google Keep</a>\n",
    "<li><a href=\"https://play.google.com/store/apps/details?id=org.isoron.uhabits&hl=pt_BR\">Loop - Acompanhador de Hábitos</a>\n",
    "<li><a href=\"https://www.forestapp.cc\">Forest: Mantenha o foco</a>\n",
    "<li><a href = \"https://organizze.com.br/\">Organizze</a>\n",
    "<li><a href=\"https://ptbr.todoist.com/\">todoist</a>\n",
    "<li><a href=\"https://chrome.google.com/webstore/detail/block-site/eiimnmioipafcokbfikbljfdeojpcgbh\">Blocksite</a>\n",
    "<li><a href=\"https://selfcontrolapp.com\">SelfControlApp</a>\n",
    "</p>"
   ]
  },
  {
   "cell_type": "markdown",
   "metadata": {},
   "source": [
    "<h1 style=\"color:cornflowerblue\">Hábitos Chave</h1>"
   ]
  },
  {
   "cell_type": "markdown",
   "metadata": {},
   "source": [
    "<h2>Mudança de Hábito</h2>\n",
    "<p>\n",
    "Maxwell Maltz foi cirurgião plástico na década de 1950, quando começou a notar um padrão estranho entre seus pacientes. Quando ele realizava uma operação - como um trabalho no nariz, por exemplo - ele descobriu que o paciente levaria cerca de 21 dias para se acostumar a ver seu novo rosto. Da mesma forma, quando um paciente tinha um braço ou uma perna amputada, Maltz notou que o paciente sentiria um membro fantasma por cerca de 21 dias antes de se adaptar à nova situação.<br>\n",
    "Essas experiências levaram Maltz a pensar sobre seu próprio período de adaptação às mudanças e novos comportamentos, e ele percebeu que também levava cerca de 21 dias para formar um novo hábito. Maltz escreveu sobre essas experiências e disse: \"Estes e muitos outros fenômenos comumente observados tendem a mostrar que requer um mínimo de cerca de 21 dias para que uma velha imagem mental se dissolva e uma nova venha a se gelificar\".<br>\n",
    "Mas o problema é que Maltz estava simplesmente observando o que estava acontecendo ao seu redor (isso entre 1950 e 1960) e não estava fazendo uma declaração de fato. Além disso, ele se assegurou ao dizer que este era o mínimo de tempo necessário para se adaptar a uma nova mudança.\n",
    "</p>"
   ]
  },
  {
   "cell_type": "markdown",
   "metadata": {},
   "source": [
    "<h2>Quanto Tempo Demora para Construir um Novo Hábito</h2>\n",
    "<p>\n",
    "De acordo com estudo <a href=\"http://onlinelibrary.wiley.com/doi/10.1002/ejsp.674/abstract\">publicado no European Journal of Social Psychology</a>, a pesquisadora de Psicologia da saúde no University College de Londres Phillippa Lally e sua equipe de pesquisa decidiu descobrir exatamente quanto tempo realmente levava para ser formado um hábito.<br>\n",
    "<br>\n",
    "\n",
    "Segundo o estudo, em média, leva mais de dois meses antes de um novo comportamento se tornar automático - 66 dias, para ser exato. E quanto tempo leva para formar se um novo hábito pode variar amplamente dependendo do comportamento, a pessoa e as circunstâncias. No estudo da Dra. Lally, levou de 18 dias a 254 dias para as pessoas formarem um novo hábito.\n",
    "</p>"
   ]
  },
  {
   "cell_type": "markdown",
   "metadata": {},
   "source": [
    "<h2>Por que é tão Difícil Manter Bons Hábitos?</h2>\n",
    "<p>\n",
    "James Clear, especialista em hábitos, faz uma recomendação: comece pequeno. Pensando em três hábitos pequenos: Escovar os dentes; Roer as unhas; Comer fast-food. Essas ações são pequenas o suficiente para que nem pense nelas. Simplesmente fazer, de modo automático. Isso nos leva a uma conclusão: são as pequenas ações que se tornam padrões consistentes. Então a dica é começar pequeno, mesmo que para questões grandiosas.<br>\n",
    "É importante pensar na tríade: Deixa (estímulo) - Rotina - Recompensa e adaptar ela as necessidades e novos hábitos que se quer adquirir.\n",
    "</p>"
   ]
  },
  {
   "cell_type": "markdown",
   "metadata": {},
   "source": [
    "<h2>Hábitos Chave</h2>\n",
    "<p>\n",
    "Segundo Charles Duhigg, Hábitos Chave são aqueles que podem desencadear novos hábitos ao ser desenvolvido. Ex: exercício físico regular pode levar a uma alimentação mais saudável.\n",
    "</p>"
   ]
  },
  {
   "cell_type": "markdown",
   "metadata": {},
   "source": [
    "<h2>Hábitos Chave que Podem Facilitar a sua Vida</h2>\n",
    "<p>\n",
    "Alguns Exemplos de Hábitos Chave e o que podem impactar:\n",
    "<li>Parar de remoer as coisas e evitar pensamentos negativos -> começar a ser mais positivo e consequentemente as coisas podem se tornar mais leves;\n",
    "<li>Eliminar a mentalidade perfeccionista -> ajuda a abrir a mente e experimentar coisas novas. Parar com esse hábito permite explorar mais as oportunidades.\n",
    "<li>Eliminar o hábito de dar desculpas -> Quando se assume uma fraqueza, se toma consciência e é possível focar atenção e energia para que esse erro não se repita.\n",
    "<li>Poupar dinheiro -> Ao fazer isso podem ser gerados fundos de emergência para imprevistos. Isso muitas vezes pode levar a um estilo de vida mais consciente do dinheiro, receitas e gastos.\n",
    "</p>"
   ]
  },
  {
   "cell_type": "markdown",
   "metadata": {},
   "source": [
    "<h1 style=\"color:cornflowerblue\">Dê Adeus aos Velhos Hábitos</h1>"
   ]
  },
  {
   "cell_type": "markdown",
   "metadata": {},
   "source": [
    "<h2>O Que Está Por Trás da Procrastinação</h2>\n",
    "<p>\n",
    "Um dos pontos chave para evitar a procrastinação é o planejamento das atividades. As vezes a procrastinação pode ser um hábito podendo atrapalhar outras aitividades mais importantes. O planejamento auxilia a verificar em que momentos o foco é necessário e em que momentos é possível se desligar para atividades menos relevantes.\n",
    "</p>"
   ]
  },
  {
   "cell_type": "markdown",
   "metadata": {},
   "source": [
    "<h2>Características da Procrastinação</h2>\n",
    "<p>\n",
    "Um importante modo de evitar a procrastinação é a utilização de checklists para avaliar o que é preciso fazer e o que ainda precisa ser realizado. Além disso, a priorização das tarefas com base na importância, urgência, etc, conforme o momento. Dessa forma sabe-se por onde começar e para onde seguir. Importante ressaltar que os checklist precisam ser detalhados para se ter clareza dos objetivos e metas de cada atividade.\n",
    "</p>"
   ]
  },
  {
   "cell_type": "markdown",
   "metadata": {},
   "source": [
    "<h2>Recomendação para Evitar a Procrastinação</h2>\n",
    "<p>\n",
    "<li>Quebrar as tarefas em atividades menores;\n",
    "<li>Incluir prazos;\n",
    "<li>Mudar de ambiente;\n",
    "<li>Eliminar distrações;\n",
    "<li>Pode ser iniciada uma tarefa mais difícil para depois saber que apenas tarefas mais fáceis serão trabalhadas. Podem ser iniciadas as tarefas mais fáceis para garantir que mais tarefas serão finalizadas de maneira mais rápida. Tudo depende no nível de prioridade das tarefas e a necessidade para o momento.\n",
    "</p>"
   ]
  },
  {
   "cell_type": "markdown",
   "metadata": {},
   "source": [
    "<h2>Recompensas</h2>\n",
    "<p>\n",
    "Podem ser realizadas recompensas para garantir a motivação. A mesma recompensa, e de maneira frequente, pode gerar o efeito inverso: desmotivação e \"sempre do mesmo\". Necessário autoconhecimento, tanto para gerir a necessidade de recompensa como também quais seriam elas e a frequência como ocorrem.<br>\n",
    "<br>\n",
    "\n",
    "Alguns exemplos:\n",
    "<li>Jogue o seu jogo favorito.\n",
    "<li>Pratique seu esporte favorito.\n",
    "<li>Assista a algo que faz você rir.\n",
    "<li>Passe algum tempo com a família / amigos.\n",
    "<li>Relaxe.\n",
    "<li>Leia um livro diferente.\n",
    "</p>"
   ]
  },
  {
   "cell_type": "markdown",
   "metadata": {},
   "source": [
    "<h2>Conteúdos Extras</h2>\n",
    "<p>\n",
    "<li><a href=\"https://www.youtube.com/playlist?list=PLAHzUao1ywLluRhQGHluW200ZAbErl297\">Playlist sobre Procrastinação</a>\n",
    "<li><a href=\"https://www.youtube.com/watch?v=arj7oStGLkU\">Inside the Mind of a Master Procrastinator | Tim Urban | TED</a>\n",
    "</p>"
   ]
  },
  {
   "cell_type": "markdown",
   "metadata": {},
   "source": [
    "<h1 style=\"color:cornflowerblue\">Autodisciplina</h1>"
   ]
  },
  {
   "cell_type": "markdown",
   "metadata": {},
   "source": [
    "<h2>Como desenvolver a autodisciplina</h2>\n",
    "<p>\n",
    "<li>Disciplina: Capacidade de se manter focado nas tarefas necessárias para concretização de uma meta sem se desviar e sem perder a motivação;\n",
    "<li>Foco: Capacidade de se manter concentrado nas atividades sendo desenvolvidas;\n",
    "<li>Motivação: É o desejo de conseguir realizar algo;\n",
    "<li>Objetivos: Clareza nos objetivos que se deseja alcançar;<br>\n",
    "<br>\n",
    "\n",
    "Algumas perguntas que podem auxiliar na motivação:\n",
    "<li>Por que você quer se tornar uma pessoa mais focada?\n",
    "<li>Você está satisfeito com o seu estilo de vida?\n",
    "<li>Você se considera uma pessoa bem sucedida?\n",
    "<li>O que falta para você se tornar melhor?\n",
    "</p>"
   ]
  },
  {
   "cell_type": "markdown",
   "metadata": {},
   "source": [
    "<h2>Organização</h2>\n",
    "<p>\n",
    "Geralmente esquecimentos são ligados à distração, estresse e ansiedade e não <a href=\"https://noticias.uol.com.br/saude/ultimas-noticias/redacao/2014/05/07/voce-esquece-as-coisas-com-frequencia-veja-mitos-e-verades-sobre-a-memoria.htm#fotoNav=15\">problemas de memória</a>.<br>\n",
    "<br>\n",
    "\n",
    " Organizar seu espaço auxilia na gestão dos recursos físicos próximos e ajusta a rotina para auxiliar nessa questão. Organizado não significa apenas arrumado. O objetivo da organização é ser capaz de encontrar itens rapidamente.\n",
    "</p>"
   ]
  },
  {
   "cell_type": "markdown",
   "metadata": {},
   "source": [
    "<h2>Cada Coisa no Seu Lugar</h2>\n",
    "<p>\n",
    "Mais coisas (itens, atividades, tarefas, responsabilidades, etc), se não forem bem geridas e organizadas são vão trazer mais desordem. É importante que ao organizar a agenda, o espaço, e o que for, cada coisa tenha seu lugar, para evitar atividades repetidas.\n",
    "</p>"
   ]
  },
  {
   "cell_type": "markdown",
   "metadata": {},
   "source": [
    "<h2>Autoconfiança</h2>\n",
    "<p>\n",
    "É importante ter um certo nível de autoconfiança para conseguir se conectar com outras pessoas, trocar idéias, participar de comunidades e de discussões. É muito importante essa participação e ser sociável.<br>\n",
    "<br>\n",
    "\n",
    "Conteúdos extras:\n",
    "<li>Minimalism: A Documentary About the Important Things\n",
    "<li>A Riqueza da Vida Simples de Gustavo Cerbasi\n",
    "</p>"
   ]
  },
  {
   "cell_type": "markdown",
   "metadata": {},
   "source": [
    "<h1 style=\"color:cornflowerblue\">Produtividade</h1>"
   ]
  },
  {
   "cell_type": "markdown",
   "metadata": {},
   "source": [
    "<h2>Ganhe Produtividade com a Técnica Pomodoro</h2>\n",
    "<p>\n",
    "A Técnica Pomodoro consiste em trabalhar por blocos de tempo, chamados de pomodoro, que foi desenvolvido por Francesco Cirillo no final dos anos 1980. A ideia é utilizar um cronômetro para dividir o trabalho em períodos de 25 minutos, separados por breves intervalos. A técnica deriva seu nome da palavra italiana pomodoro (tomate), como referência ao popular cronômetro gastronômico na forma desta fruta. O método é baseado na ideia de que pausas frequentes podem aumentar a agilidade mental.<br>\n",
    "<br>\n",
    "\n",
    "A técnica auxilia em:\n",
    "<li>Aumentou a concentração\n",
    "<li>Aumentar a produtividade\n",
    "<li>Diminuir as interrupções\n",
    "<li>Aprender estimar melhor tempo\n",
    "<li>Aliviar a ansiedade\n",
    "</p>"
   ]
  },
  {
   "cell_type": "markdown",
   "metadata": {},
   "source": [
    "<h2>Gerencie Interrupções com a Técnica Pomodoro</h2>\n",
    "<p>\n",
    "Evitar as interrupções internas, aquelas que partem da própria pessoa. Atividade e necessidade não prioritárias devem ser deixadas para depois.<br>\n",
    "<br>\n",
    "\n",
    "As interrupções externas precisam ser lidadas com cuidado. É importante ser flexível, seja para aceitar a interrupção, seja para não poder parar naquele momento. Com o tempo as pessoas ao redor entenderão os momentos de foco e de pausa.\n",
    "</p>"
   ]
  },
  {
   "cell_type": "markdown",
   "metadata": {},
   "source": [
    "<h2>GTD: Getting Things Done e Mais organização com o GTD</h2>\n",
    "<p>\n",
    "GTD (Getting Things Done) é um método de produtividade criado por David Allen.<br>\n",
    "<br>\n",
    "\n",
    "O “caminho” do GTD é exemplificado em 5 passos:\n",
    "<li>Coletar: Registrar em algum lugar e \"tirar\" da cabeça. O registro, nesse momento é mais importante que a organização.\n",
    "<li>Processar: Esclarecer e transformar a anotação em tarefas realizáveis, notas detalhadas e com contexto robusto. Desmembrar em várias tarefas se necessário.\n",
    "<li>Organize: Esclarecer o trabalho ao mesmo tempo que organiza. Transferir os itens para os locais, projetos, etc, apropriados. Ir limpando a \"caixa de entrada\" que seriam os itens da etapa de Coleta.\n",
    "<li>Reflita: Reflexão, em intervalos razoáveis (muito frequentes podem mais atrapalhar que auxiliar) do que é necessário coletar e aquilo que já foi realizado;\n",
    "<li>Executar: Após \"remover\" da cabeça aquilo que pode ser preocupante ou que precisa ser recordado, o objetivo agora é realizar o trabalho, de acordo com Prioridade, Contexto, Tempo Disponível e Energia Disponível.<br>\n",
    "<br>\n",
    "\n",
    "Não existe nada tão inútil do que fazer com alta performance uma atividade desnecessária. Se for verificado que as atividades, prioridades e contextos foram alterados, na etapa de revisão, verificar o que é preciso que seja feito e remanejar as atividades.\n",
    "</p>"
   ]
  },
  {
   "cell_type": "markdown",
   "metadata": {},
   "source": [
    "<h2>Materiais Adicionais</h2>\n",
    "<p>\n",
    "<li>Livro: O poder do hábito: Por que fazemos o que fazemos na vida e nos negócios\n",
    "<li><a href=\"https://endeavor.org.br/desenvolvimento-pessoal/7-habitos-pessoas-eficazes/\">7 hábitos de pessoas altamente eficazes</a>\n",
    "<li><a href=\"https://www.youtube.com/watch?v=5MgBikgcWnY\">As primeiras 20 horas - Como aprender qualquer coisa: Josh Kaufman no TEDxCSU</a>\n",
    "<li><a href=\"https://www.bbc.com/portuguese/geral-55563393\">Técnica Pomodoro</a>\n",
    "<li>Série: Ordem na Casa com Marie Kondo\n",
    "</p>"
   ]
  }
 ],
 "metadata": {
  "language_info": {
   "name": "python"
  }
 },
 "nbformat": 4,
 "nbformat_minor": 2
}
