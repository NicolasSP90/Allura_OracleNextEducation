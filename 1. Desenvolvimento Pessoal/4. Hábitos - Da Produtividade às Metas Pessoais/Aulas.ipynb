{
 "cells": [
  {
   "cell_type": "markdown",
   "metadata": {},
   "source": [
    "<h1 style=\"color:cornflowerblue\"></h1>\n",
    "\n",
    "<h2></h2>\n",
    "<p>\n",
    "</p>"
   ]
  }
 ],
 "metadata": {
  "language_info": {
   "name": "python"
  }
 },
 "nbformat": 4,
 "nbformat_minor": 2
}
