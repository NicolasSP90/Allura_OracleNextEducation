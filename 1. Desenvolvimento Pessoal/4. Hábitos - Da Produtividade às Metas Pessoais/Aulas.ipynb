{
 "cells": [
  {
   "cell_type": "markdown",
   "metadata": {},
   "source": [
    "<h1 style=\"color:cornflowerblue\">Reconhecendo Seus Hábitos</h1>"
   ]
  },
  {
   "cell_type": "markdown",
   "metadata": {},
   "source": [
    "<h2>Objetivos e Metas</h2>\n",
    "<p>\n",
    "É importante que Objetivos sejam traçados para que se tenha clareza no que se deve alcançar. As metas são checkpoints relacionados ao objetivo, que devem ser feitos para alcançar aquele objetivo.\n",
    "<li>Objetivos é sobre o que eu quero alcançar lá na frente. Ex: Fazer natação.\n",
    "<li>Já as metas são ações que pretendo fazer para alcançar meu objetivo maior. Ex: Ir duas vezes por semana.<br>\n",
    "<br>\n",
    "\n",
    "Se necessário podem ser utilizadas ferramentas digitais, como por exemplo, o bloco de notas, evernote, ou outro aplicativo que pode ser visualizado do computador ou celular.\n",
    "</p>"
   ]
  },
  {
   "cell_type": "markdown",
   "metadata": {},
   "source": [
    "<h2>Hábitos</h2>\n",
    "<p>\n",
    "Cada hábito é composto por 3 itens:\n",
    "<li>Deixa (Estímulo);\n",
    "<li>Rotina;\n",
    "<li>Recompensa.<br>\n",
    "<br>\n",
    "\n",
    "A partir disso, podemos utilizar esses itens para estimular hábitos melhores e que se encaixem nas metas e objetivos que temos que alcançar.<br>\n",
    "Ex:Deixa (Estímulo): Deixar um livro na cabeceira da cama; Rotina: Ler um capítulo antes de dormir; Recompensa: Bom sono e leitura em dia. \n",
    "</p>"
   ]
  },
  {
   "cell_type": "markdown",
   "metadata": {},
   "source": [
    "<h2>Loop do Hábito</h2>\n",
    "<p>\n",
    "“Hábitos são sequências de ações aprendidas depois de muita repetição, até que passam a ser executadas com o mínimo de esforço mental.” - Wolfram Schultz, professor de neurociência da Universidade de Cambridge, na Inglaterra.<br>\n",
    "<br>\n",
    "\n",
    "Dessa forma, não basta entender a tríade do hábito (deixa-rotina-recompensa), mas sim alimentar e repetir esse loop, o que pode ser trabalhoso e difícil nos primeiros momentos, até porque já temos hábitos alimentados a anos em cada um de nós. Devem ser encontrados modos de facilitar o início da tríade, como incentivo para que o hábito seja iniciado.\n",
    "</p>"
   ]
  },
  {
   "cell_type": "markdown",
   "metadata": {},
   "source": [
    "<h2>Metas Efetivas com o Método S.M.A.R.T</h2>\n",
    "<p>\n",
    "<li>S (Specific): Especificidade<br>\n",
    "As metas precisam ser específicas. Métas genéricas não contribuem para a efetividade não trazem clareza e possuem resultados subjetivos;<br>\n",
    "<br>\n",
    "\n",
    "<li>M (Measurable): Mensurável<br>\n",
    "Encontrar maneiras de mensurar essa meta, tanto o progresso como uma definição de quando está completa;<br>\n",
    "<br>\n",
    "\n",
    "<li>A (Attainable): Alcançável<br>\n",
    "As metas devem ser reais e possíveis de serem completadas. Não é problema ter metas agressivas, mas devem vir acompanhadas de ações que façam com que sejam possíveis de serem alcançadas.<br>\n",
    "<br>\n",
    "\n",
    "<li>R (Relevant): Relevante<br>\n",
    "Para uma meta ser relevante, ela precisa não só estar alinhada ao propósito de vida, mas também ter impactos positivos.<br>\n",
    "<br>\n",
    "\n",
    "<li>T (Time-related): Temporal<br>\n",
    "Prazos limites são importantes para transformar a procrastinação em ação. Datas precisam ser realistas nas suas definições.<br>\n",
    "</p>"
   ]
  },
  {
   "cell_type": "markdown",
   "metadata": {},
   "source": [
    "<h2>Sugestões de Aplicativos</h2>\n",
    "<p>\n",
    "<li><a href=\"https://evernote.com/pt-br\">Evernote</a>\n",
    "<li><a href=\"https://www.mindmeister.com/\">Mindmeister</a>\n",
    "<li><a href=\"https://www.meistertask.com/pt\">Meister Task</a>\n",
    "<li><a href=\"https://chromewebstore.google.com/detail/marinara-assistente-pomod/lojgmehidjdhhbmpjfamhpkpodfcodef?pli=1\">Marinara: Assistente Pomodoro</a>\n",
    "<li><a href=\"https://apps.apple.com/br/app/momentum-habit-tracker-routines-goals-rituals/id946923599\">Momentum</a>\n",
    "<li><a href=\"https://habitica.com\">Habitica (disponível também para Android e iOS)</a>\n",
    "<li><a href=\"https://www.toodledo.com/\">Toodledo</a>\n",
    "<li><a href=\"https://play.google.com/store/apps/details?id=com.socialnmobile.dictapps.notepad.color.note\">ColorNote</a>\n",
    "<li><a href=\"https://play.google.com/store/apps/details?id=com.firecreek.kanbantasklist\">Kanban Task List</a>\n",
    "<li><a href=\"https://wwws.minhaseconomias.com.br/\">Minhas Economias</a>\n",
    "<li><a href=\"https://play.google.com/store/apps/details?id=com.jp.tsurutan.routintaskmanage&hl=pt_BR\">roubit</a>\n",
    "<li><a href=\"https://pomodoro-tracker.com/\">Pomodoro Tracker</a>\n",
    "<li><a href=\"https://play.google.com/store/apps/details?id=com.apps.dsimpletools.helpmefocus\">Helpme Focus</a>\n",
    "<li><a href=\"https://play.google.com/store/apps/details?id=com.gmail.jmartindev.timetune\">TimeTune</a>\n",
    "<li><a href=\"https://play.google.com/store/apps/details?id=cz.mobilesoft.appblock&hl=pt_BR&pli=1\">AppBlock</a>\n",
    "<li><a href=\"https://play.google.com/store/apps/details?id=com.humanhelper.forhuman.quick&hl=pt\">Auxiliar de memória : Bloco de notas de tarefas</a>\n",
    "<li><a href=\"https://to-do.office.com/tasks/\">To-do (Microsoft)</a>\n",
    "<li><a href=\"https://play.google.com/store/apps/details?id=com.google.android.apps.tasks&hl=pt_BR\">Tarefas (Google)</a>\n",
    "<li><a href=\"https://www.onenote.com/\">One Note (Microsoft)</a>\n",
    "<li><a href=\"https://keep.google.com/\">Google Keep</a>\n",
    "<li><a href=\"https://play.google.com/store/apps/details?id=org.isoron.uhabits&hl=pt_BR\">Loop - Acompanhador de Hábitos</a>\n",
    "<li><a href=\"https://www.forestapp.cc\">Forest: Mantenha o foco</a>\n",
    "<li><a href = \"https://organizze.com.br/\">Organizze</a>\n",
    "</p>"
   ]
  },
  {
   "cell_type": "markdown",
   "metadata": {},
   "source": [
    "<h1 style=\"color:cornflowerblue\">Hábitos Chave</h1>"
   ]
  },
  {
   "cell_type": "markdown",
   "metadata": {},
   "source": [
    "<h2>Mudança de Hábito</h2>\n",
    "<p>\n",
    "Maxwell Maltz foi cirurgião plástico na década de 1950, quando começou a notar um padrão estranho entre seus pacientes. Quando ele realizava uma operação - como um trabalho no nariz, por exemplo - ele descobriu que o paciente levaria cerca de 21 dias para se acostumar a ver seu novo rosto. Da mesma forma, quando um paciente tinha um braço ou uma perna amputada, Maltz notou que o paciente sentiria um membro fantasma por cerca de 21 dias antes de se adaptar à nova situação.<br>\n",
    "Essas experiências levaram Maltz a pensar sobre seu próprio período de adaptação às mudanças e novos comportamentos, e ele percebeu que também levava cerca de 21 dias para formar um novo hábito. Maltz escreveu sobre essas experiências e disse: \"Estes e muitos outros fenômenos comumente observados tendem a mostrar que requer um mínimo de cerca de 21 dias para que uma velha imagem mental se dissolva e uma nova venha a se gelificar\".<br>\n",
    "Mas o problema é que Maltz estava simplesmente observando o que estava acontecendo ao seu redor (isso entre 1950 e 1960) e não estava fazendo uma declaração de fato. Além disso, ele se assegurou ao dizer que este era o mínimo de tempo necessário para se adaptar a uma nova mudança.\n",
    "</p>"
   ]
  },
  {
   "cell_type": "markdown",
   "metadata": {},
   "source": [
    "<h2>Quanto Tempo Demora para Construir um Novo Hábito</h2>\n",
    "<p>\n",
    "De acordo com estudo <a href=\"http://onlinelibrary.wiley.com/doi/10.1002/ejsp.674/abstract\">publicado no European Journal of Social Psychology</a>, a pesquisadora de Psicologia da saúde no University College de Londres Phillippa Lally e sua equipe de pesquisa decidiu descobrir exatamente quanto tempo realmente levava para ser formado um hábito.<br>\n",
    "<br>\n",
    "\n",
    "Segundo o estudo, em média, leva mais de dois meses antes de um novo comportamento se tornar automático - 66 dias, para ser exato. E quanto tempo leva para formar se um novo hábito pode variar amplamente dependendo do comportamento, a pessoa e as circunstâncias. No estudo da Dra. Lally, levou de 18 dias a 254 dias para as pessoas formarem um novo hábito.\n",
    "</p>"
   ]
  },
  {
   "cell_type": "markdown",
   "metadata": {},
   "source": [
    "<h2>Por que é tão Difícil Manter Bons Hábitos?</h2>\n",
    "<p>\n",
    "James Clear, especialista em hábitos, faz uma recomendação: comece pequeno. Pensando em três hábitos pequenos: Escovar os dentes; Roer as unhas; Comer fast-food. Essas ações são pequenas o suficiente para que nem pense nelas. Simplesmente fazer, de modo automático. Isso nos leva a uma conclusão: são as pequenas ações que se tornam padrões consistentes. Então a dica é começar pequeno, mesmo que para questões grandiosas.<br>\n",
    "É importante pensar na tríade: Deixa (estímulo) - Rotina - Recompensa e adaptar ela as necessidades e novos hábitos que se quer adquirir.\n",
    "</p>"
   ]
  },
  {
   "cell_type": "markdown",
   "metadata": {},
   "source": [
    "<h2>Hábitos Chave</h2>\n",
    "<p>\n",
    "Segundo Charles Duhigg, Hábitos Chave são aqueles que podem desencadear novos hábitos ao ser desenvolvido. Ex: exercício físico regular pode levar a uma alimentação mais saudável.\n",
    "</p>"
   ]
  },
  {
   "cell_type": "markdown",
   "metadata": {},
   "source": [
    "<h2>Hábitos Chave que Podem Facilitar a sua Vida</h2>\n",
    "<p>\n",
    "Alguns Exemplos de Hábitos Chave e o que podem impactar:\n",
    "<li>Parar de remoer as coisas e evitar pensamentos negativos -> começar a ser mais positivo e consequentemente as coisas podem se tornar mais leves;\n",
    "<li>Eliminar a mentalidade perfeccionista -> ajuda a abrir a mente e experimentar coisas novas. Parar com esse hábito permite explorar mais as oportunidades.\n",
    "<li>Eliminar o hábito de dar desculpas -> Quando se assume uma fraqueza, se toma consciência e é possível focar atenção e energia para que esse erro não se repita.\n",
    "<li>Poupar dinheiro -> Ao fazer isso podem ser gerados fundos de emergência para imprevistos. Isso muitas vezes pode levar a um estilo de vida mais consciente do dinheiro, receitas e gastos.\n",
    "</p>"
   ]
  },
  {
   "cell_type": "markdown",
   "metadata": {},
   "source": [
    "<h1 style=\"color:cornflowerblue\">Dê Adeus aos Velhos Hábitos</h1>"
   ]
  },
  {
   "cell_type": "markdown",
   "metadata": {},
   "source": [
    "<h1 style=\"color:cornflowerblue\"></h1>\n",
    "\n",
    "<h2></h2>\n",
    "<p>\n",
    "</p>"
   ]
  }
 ],
 "metadata": {
  "language_info": {
   "name": "python"
  }
 },
 "nbformat": 4,
 "nbformat_minor": 2
}
