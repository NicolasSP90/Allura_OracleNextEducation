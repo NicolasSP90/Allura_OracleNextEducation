{
 "cells": [
  {
   "cell_type": "markdown",
   "metadata": {},
   "source": [
    "<h1 style=\"color:cornflowerblue\"></h1>\n",
    "\n",
    "<h2></h2>\n",
    "<p>\n",
    "</p>"
   ]
  },
  {
   "cell_type": "markdown",
   "metadata": {},
   "source": [
    "<h1 style=\"color:cornflowerblue\">A Ilusão de ser Multitarefa</h1>"
   ]
  },
  {
   "cell_type": "markdown",
   "metadata": {},
   "source": [
    "<h2>Inimigo Invisível</h2>\n",
    "\n",
    "<p>\n",
    "Criação de listas são importantes para lidar com coisas e situações que precisam ser feitas. Mas a criação de listas de tarefas, afazeres, responsabilidades e objetivos só são válidos quando esse itens saem do papel e se tornam ações. Para isso é imporante planejar atividades e ter FOCO na resolução.<br>\n",
    "<br>\n",
    "\n",
    "Princípio de Paretto: 80% dos efeitos vem de 20% das causas. Dessa forma, focar nas atividades que vão trazer mais retorno.\n",
    "</p>"
   ]
  },
  {
   "cell_type": "markdown",
   "metadata": {},
   "source": [
    "<h2>Foco</h2>\n",
    "\n",
    "<p>\n",
    "Ao definir, por exemplo, que o foco deve ser na carreira e o posicionamento profissional algumas ações podem ser feitas para realizar esse objetivo, como por exemplo:\n",
    "<li>Ir a eventos;\n",
    "<li>Conectar com profissionais no LinkedIn;\n",
    "<li>Escrever artigos;\n",
    "<li>Participar de grupos de discussão;<br>\n",
    "<br>\n",
    "\n",
    "A partir das atividades, podem ser definidas quais atividades serão as principais e como focar em cada situação.\n",
    "</p>"
   ]
  },
  {
   "cell_type": "markdown",
   "metadata": {},
   "source": [
    "<h2>Multitask</h2>\n",
    "\n",
    "<p>\n",
    "\"Fazer muitas coisas ao mesmo tempo é meramente a oportunidade de estragar mais de uma coisa ao mesmo tempo.\" Steve Uzzell.<br>\n",
    "<br>\n",
    "\n",
    "Ao fazer mais de uma coisa ao mesmo tempo, a atenção aos detalhes é dividida, podendo gerar erros e retrabalhos (e assim, perda de tempo).<br>\n",
    "<br>\n",
    "\n",
    "Ressaltar que Multidisciplinaridade não é a mesma coisa que Multitarefa. A multidisciplinaridade é a nossa capacidade de transitar entre várias áreas de conhecimento e atividades, mas sempre se atentando a focar na atividade que está sendo desenvolvida.\n",
    "</p>"
   ]
  },
  {
   "cell_type": "markdown",
   "metadata": {},
   "source": [
    "<h2>Sugestões de Leitura</h2>\n",
    "<p>\n",
    "\n",
    "<li>O Direito de Dizer Não!: o Primeiro Passo Para Resgatar o Amor-próprio e ser Feliz, de Walter Riso.\n",
    "<li>Aprenda a Dizer Não Sem Culpas, de Antonio Scavém.\n",
    "<li>Aprenda A Dizer Não. E Conquiste O Que A Vida Tem De Melhor Para Oferecer, de Greg Cootsona.\n",
    "<li>A Arte De Dizer Não, de Damon Zahariades.\n",
    "<li>Essencialismo: A disciplinada busca por menos, de Greg McKeown.\n",
    "</p>"
   ]
  },
  {
   "cell_type": "markdown",
   "metadata": {},
   "source": [
    "<h2>Wrap Up</h2>\n",
    "<p>\n",
    "<li>Listas de Sucesso: Segundo o livro “A única coisa”, uma lista efetiva é curta e focada em resultados extraordinários. Propomos um exercício para transformar uma lista de tarefas em uma lista de sucesso, destacando as tarefas importantes e delegando as menos importantes.\n",
    "<li>Princípio de Pareto: Afirma que 80% dos resultados vêm de 20% das ações. Sugere-se aplicar este princípio ao definir tarefas prioritárias.\n",
    "<li>Procrastinação: O texto termina enfatizando a importância do foco para evitar a procrastinação e alcançar os objetivos desejados.\n",
    "<li>Aprender a Dizer Não: Enfatiza a importância de aprender a dizer não para evitar distrações e manter o foco nas tarefas prioritárias.\n",
    "<li>Importância do Foco Principal: Destaca a importância de identificar o que é mais importante para você e focar nisso.\n",
    "<li>Crítica à Multitarefa: Steve Uzzell critica a multitarefa, argumentando que tentar fazer muitas coisas ao mesmo tempo pode levar a mais erros.\n",
    "<li>Diferença entre Multitarefa e Formação Multidisciplinar: Distingue entre ser multitarefa e ter uma formação multidisciplinar, argumentando que o último é importante para o desenvolvimento de habilidades e competências.\n",
    "</p>"
   ]
  },
  {
   "cell_type": "markdown",
   "metadata": {},
   "source": [
    "<h1 style=\"color:cornflowerblue\">Crenças</h1>"
   ]
  },
  {
   "cell_type": "markdown",
   "metadata": {},
   "source": [
    "<h2>Sucesso e Disciplina</h2>\n",
    "\n",
    "<p>\n",
    "É natural que todos tenhamos crenças e que elas impactam na rotina, atividades e motivação do dia a dia. É importante ficar atento a como as crenças moldam o comportamento e se estão impulsionando os objetivos. E se estiverem atrapalhando, é encessário questionar e remanejar os hábitos e disciplina em direção ao objetivo.\n",
    "</p>"
   ]
  },
  {
   "cell_type": "markdown",
   "metadata": {},
   "source": [
    "<h2>O que está por trás do Momento Eureka</h2>\n",
    "\n",
    "<p>\n",
    "O cérebro tem dois sitemas mentais semi-independentes, amplamente separados.<br>\n",
    "<li>Sistema Descendente:<br>\n",
    "Capacidade computacional e trabalho constante. Funciona silenciosamente para resolver nossos problemas.<br>\n",
    "<br>\n",
    "\n",
    "<li>Sistema Ascendente:<br>\n",
    "É multitarefa e analisa o que está no nosso campo de percepção.<br>\n",
    "<br>\n",
    "\n",
    "É por conta desses sitemas que fazemos coisas no modo automático, que em determinados momentos de descontração encontramos a solução para problemas complexos.<br>\n",
    "Esforços cognitivos exigem energia, com: \n",
    "<li>Acessar memórias\n",
    "<li>Prestar atenção\n",
    "<li>>Percepção sobre algo\n",
    "<li>Representação de conhecimento\n",
    "<li>Raciocínio\n",
    "<li>Criatividade na resolução de problemas\n",
    "</p>"
   ]
  },
  {
   "cell_type": "markdown",
   "metadata": {},
   "source": [
    "<h2>Softwares de Mapas Mentais</h2>\n",
    "\n",
    "<p>\n",
    "<li>Mind Meister\n",
    "<li>XMind\n",
    "<li>Mind Node (apenas iOS)\n",
    "<li>Mind Mapr (Externsão Chrome)\n",
    "<li>Coggle\n",
    "</p>"
   ]
  },
  {
   "cell_type": "markdown",
   "metadata": {},
   "source": [
    "<h2>Reflexão e Ação com Foco</h2>\n",
    "\n",
    "<p>\n",
    "Foco é fundamental. Evitar chamarizes e funis de atenção que possam desviar da atividade.<br>\n",
    "<br>\n",
    "\n",
    "NÃO DEVA NADA:\n",
    "<li>E-mails\n",
    "<li>Telefonemas\n",
    "<li>Respostas<br>\n",
    "<br>\n",
    "\n",
    "Refletir sobre o dia a dia. É necessário ter autoconsciência sobre as atividades e o próprio momento. Tomar decisões com base no melhor momento ou caminho, pensar em formas melhores de realizar as tarefas, dedicar parte do tempo para cuidar de si mesmo e otimizar a rotina para ter mais tempo para lazer. A idéia disso é sair do piloto automático e ser consciente em aproveitar a vida.\n",
    "</p>"
   ]
  },
  {
   "cell_type": "markdown",
   "metadata": {},
   "source": [
    "<h2>Wrap Up</h2>\n",
    "<p>\n",
    "<li>Construção de Crenças: As crenças são estados psicológicos em que acreditamos que algo é verdade. Essas crenças podem nos impedir de tomar ações que são benéficas para nós.\n",
    "<li>Crenças Limitantes: As crenças podem nos impedir de dar um passo adiante. Sugerimos começar com pequenos passos em vez de sempre pensar no maior.\n",
    "<li>Hábitos Poderosos: A chave para o sucesso é desenvolver hábitos poderosos e usar a disciplina para mantê-los.\n",
    "<li>Processo de Pensamento: O cérebro tem dois sistemas mentais semi-independentes. Um sistema trabalha constantemente nos bastidores para resolver problemas, enquanto o outro é multitarefa e analisa tudo o que está em nosso campo de percepção.\n",
    "<li>Economia de Energia: O cérebro divide tarefas mentais entre esses dois sistemas para economizar energia. Esforços cognitivos, como recuperar uma memória ou prestar atenção, exigem energia.\n",
    "<li>Automatização de Tarefas: À medida que nos familiarizamos mais com as rotinas, as coisas se tornam mais fáceis e os comportamentos se tornam automáticos.\n",
    "<li>Renovação de Energia: Sugerimos a necessidade de renovar as energias e cuidar da saúde mental e física.\n",
    "<li>Fases da Vida: Reconhecemos que todos passam por diferentes fases na vida e que é importante adaptar-se a essas mudanças de cada fase.\n",
    "<li>Descanso e Ação: Sugerimos que é importante equilibrar o descanso e a ação para evitar a exaustão.\n",
    "<li>Autoconsciência: É importante praticar a autoconsciência e refletir sobre o dia para entender melhor as próprias necessidades e desejos.\n",
    "</p>"
   ]
  },
  {
   "cell_type": "markdown",
   "metadata": {},
   "source": [
    "<h1 style=\"color:cornflowerblue\">Força de Vontade</h1>"
   ]
  },
  {
   "cell_type": "markdown",
   "metadata": {},
   "source": [
    "<h2>O Poder da Força de Vontade</h2>\n",
    "<p>\n",
    "Algumas coisas podem afetar a qualidade de vida:\n",
    "<li>Estresse do Trabalho;\n",
    "<li>Excesso de Autoconfiança;\n",
    "<li>Frustração;\n",
    "<li>Pensamentos Negativos;\n",
    "<li>Esperar a Inspiração Ideal;\n",
    "<li>Procrastinação;\n",
    "<li>Falta de Sono.<br>\n",
    "<br>\n",
    "\n",
    "Esses são, via de regra, sintomas. É preciso questionar a situação para saber o que é o problema raíz e tratá-lo. E ao descobrir é preciso ter força de vontade para mudar:\n",
    "<li>Implementar novos comportamentos;\n",
    "<li>Resistir às tentações;\n",
    "<li>Não suprimir as emoções;\n",
    "<li>Suprimir impulsos;\n",
    "<li>Não tentar impressionar os outros;\n",
    "<li>Lidar com o medo.\n",
    "</p>\n",
    "\n",
    "<p>\n",
    "Exercícios para melhorar a força de vontade e autodisciplina:\n",
    "<li>Dez minutos de meditação: A meditação é o exercício que apresentará os resultados mais rapidamente.\n",
    "<li>Trabalhe sua postura: Melhorar a postura pode ajudar a melhorar a autoconfiança.\n",
    "<li>Mantenha controle do que come diariamente: Ter controle sobre a alimentação é um excelente exercício de disciplina.\n",
    "<li>Use sua mão oposta: Tente usar sua mão não dominante para realizar tarefas do dia a dia.\n",
    "<li>Corrija seu modo de falar: Evite palavras negativas e trabalhe para falar de maneira mais positiva.\n",
    "<li>Crie prazos e se obrigue a alcançá-los: Estabelecer metas e trabalhar para alcançá-las pode ajudar a melhorar a autodisciplina.\n",
    "<li>Mantenha controle dos seus gastos: Gerenciar o dinheiro de maneira eficaz é um bom exercício para a força de vontade.\n",
    "<li>Pressione um handgrip: Este exercício físico pode ajudar a aumentar a força de vontade.\n",
    "<li>Persista, recomece ou empenhe-se mais da próxima vez: Não pare no fracasso. Persistir, recomeçar ou empenhar-se mais da próxima vez, essa deve ser sempre a nossa lição nos pequenos fracassos.\n",
    "</p>"
   ]
  },
  {
   "cell_type": "markdown",
   "metadata": {},
   "source": [
    "<h2>Como Manter a Força de Vontade</h2>\n",
    "<p>\n",
    "Segundo uma pesquisa realizada nos Estados Unidos, um terço das pessoas que criam metas de ano novo desistem antes do fim de janeiro<br>\n",
    "<br>\n",
    "\n",
    "Segundo a psicóloga Kelly McGonigal, que criou um curso na Universidade de Stanford sobre como desenvolver a força de vontade, essa não é um aspecto inalterável do ser humano. É uma relação complexa da mente e do corpo, que pode ser comprometida por noites mal dormidas, estresse e alimentação inadequada.<br>\n",
    "<br>\n",
    "\n",
    "A força de vontade funciona como se fosse um músculo: Começamos devagar e, conforme evoluímos, aumentamos os pesos.<br>\n",
    "<br>\n",
    "\n",
    "Também é importante não retomar hábitos ruins, como fumar, consumir muito fast food ou muita comida congelada. Outro ponto importante é combater o estresse.<br>\n",
    "<br>\n",
    "\n",
    "A psicóloga McGonigal ressalta que uma dieta com mais vegetais e menos alimentos processados oferece mais energia ao cérebro e pode melhorar todos os aspectos necessários para manter a determinação com as metas.\n",
    "</p>"
   ]
  },
  {
   "cell_type": "markdown",
   "metadata": {},
   "source": [
    "<h2>Os Desafios para Manter o Foco</h2>\n",
    "\n",
    "<p>\n",
    "A psicóloga McGonagall compartilhou uma frase muito interessante:<br>\n",
    "\"Quando acreditamos que faremos uma escolha diferente no próximo dia, quase sempre cedemos às tentações do momento atual\".<br>\n",
    "Toda vez que tiver vontade de deixar as coisas para depois, cuidado. A ação que pode ser feita para evitar esses tipos de coisas que podem acontecer é focar no agora, fazer as coisas agora.<br>\n",
    "Lembrar sempre do seu objetivo maior: ser mais produtivo, ser mais saudável, ser mais eficiente. Fazer com que as pessoas percebam o valor como profissional ou como pessoa.<br>\n",
    "<br>\n",
    "\n",
    "Pode ser criado um sistema de recompensas para cada objetivo atingido, para programar a importância de alcançar os objetivos e manter a disciplina.<br>\n",
    "<br>\n",
    "\n",
    "É imporante que se tenham momentos de reflexão e questionamento para se manter focado nas atividades a serem desenvolvidas.\n",
    "</p>"
   ]
  },
  {
   "cell_type": "markdown",
   "metadata": {},
   "source": [
    "<h2>Wrap Up</h2>\n",
    "\n",
    "<p>\n",
    "<li>Estresse do trabalho: A rotina repetitiva e estressante do trabalho pode levar a um sentimento de insatisfação.\n",
    "<li>Excesso de autoconfiança: Acreditar que pode lidar com tudo sozinho pode levar à frustração quando as coisas não saem como planejado.\n",
    "<li>Pensamento negativo: Um ambiente negativo pode levar à desmotivação e à sensação de que as coisas nunca mudam.\n",
    "<li>Esperar pela inspiração ideal: Procrastinar à espera do momento perfeito pode ser um obstáculo para o foco e a realização de tarefas.\n",
    "<li>Falta de sono: Dormir pouco pode afetar negativamente o desempenho e a produtividade.\n",
    "<li>Força de vontade: A força de vontade é fundamental para manter o foco e alcançar os objetivos, seja na saúde, no trabalho ou na vida pessoal.\n",
    "<li>Prática leva à perfeição: A força de vontade funciona como um músculo. Começamos devagar e aumentamos gradualmente.\n",
    "<li>Cansaço: A força de vontade diminui quando ficamos cansados. É importante focar mais nas metas quando se está mais disposto.\n",
    "<li>Hábitos ruins: Retomar hábitos ruins pode ser tentador, mas é importante manter o equilíbrio.\n",
    "<li>Dieta saudável: Uma dieta com mais vegetais e menos alimentos processados oferece mais energia ao cérebro e pode melhorar todos os aspectos necessários para manter a determinação com suas metas.\n",
    "<li>Combate ao estresse: O estresse é inevitável, mas existem alternativas para lidar com ele. Estresse e força de vontade não andam juntos.\n",
    "<li>Sono: O sono é regulador e nos faz sentir melhor. Melhorar o sono pode ser uma maneira simples e eficaz de ajudar a controlar o estresse.\n",
    "<li>Foco no agora: É importante focar no momento presente e lembrar-se sempre do objetivo maior para manter a motivação.\n",
    "<li>Recompensas: Associar tarefas a pequenas recompensas pode ajudar a encarar as tarefas como algo positivo e motivador.\n",
    "<li>Consciência: Ter consciência das próprias ações é fundamental para evitar comportamentos automáticos e robóticos.\n",
    "<li>Gatilhos: Utilizar gatilhos, como lembretes visuais, pode ajudar a impulsionar a motivação e facilitar a realização de tarefas.\n",
    "<li>Reflexão diária: A reflexão precisa ser um exercício diário para ajudar a incorporar novos hábitos e ter mais consciência das próprias ações.\n",
    "</p>"
   ]
  },
  {
   "cell_type": "markdown",
   "metadata": {},
   "source": [
    "<h1 style=\"color:cornflowerblue\"></h1>\n",
    "\n",
    "<h2></h2>\n",
    "<p>\n",
    "</p>"
   ]
  }
 ],
 "metadata": {
  "language_info": {
   "name": "python"
  }
 },
 "nbformat": 4,
 "nbformat_minor": 2
}
