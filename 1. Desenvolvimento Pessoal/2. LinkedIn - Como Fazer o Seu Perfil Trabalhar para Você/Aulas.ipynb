{
 "cells": [
  {
   "cell_type": "markdown",
   "metadata": {},
   "source": [
    "<h1 style=\"color:cornflowerblue\"></h1>\n",
    "\n",
    "<h2></h2>\n",
    "<p>\n",
    "</p>"
   ]
  },
  {
   "cell_type": "markdown",
   "metadata": {},
   "source": [
    "<h1 style=\"color:cornflowerblue\">Por Dentro do LinkedIn</h1>"
   ]
  },
  {
   "cell_type": "markdown",
   "metadata": {},
   "source": [
    "<h2>O que fazer?</h2>\n",
    "\n",
    "<p>\n",
    "<li>É importante ressaltar o que o LinkedIn não é algo estático, ou seja, um repositório de currículos, mas sim uma plataforma na qual é possível interagir com outras pessoas, seja por meio das publicações na timeline, de artigos compartilhados, de opiniões ou de discussões nos grupos de interesse.\n",
    "<li>Não é um local para enviar spam. Evitar mensagens que copiadas e coladas.\n",
    "<li>Ë importante definir objetivos claros: conseguir um novo trabalho? Fortalecer a presença digital ou sua marca pessoal no LinkedIn? Quer estabelecer relações e contatos profissionais? Ficar atualizado sobre as principais vagas do mercado? Aumentar a visibilidade ou melhorar o posicionamento profissional? Ou acompanhar as empresas que gostaria de trabalhar, seja para ficar sabendo de eventos dos quais possa participar ou de vagas? Existem vários objetivos que podem ser estabelecidos ao utilizar o LinkedIn.<br>\n",
    "<br>\n",
    "\n",
    "Algumas informações e dados que nos ajudarão a ter algumas referências sobre a plataforma:\n",
    "\n",
    "<li>mais de 500 milhões de usuários cadastrados\n",
    "<li>40% dos usuários utilizam o LinkedIn diariamente\n",
    "<li>106 milhões de usuários estão ativos mensalmente\n",
    "<li>3 milhões de usuários compartilham conteúdo semanalmente\n",
    "<li>80% dos leads dos negócios B2B surgem por meio de interações no LinkedIn\n",
    "<li>56% dos usuários são do gênero masculino, e 44% feminino\n",
    "<li>o Brasil é o país com o terceiro maior número de usuários na rede\n",
    "</p>"
   ]
  },
  {
   "cell_type": "markdown",
   "metadata": {},
   "source": [
    "<h1 style=\"color:cornflowerblue\">Perfil com Pouca Experiência</h1>"
   ]
  },
  {
   "cell_type": "markdown",
   "metadata": {},
   "source": [
    "<h2>Título</h2>\n",
    "<p>\n",
    "Independente se você já tem seu perfil ou se criou ele agora, visualize o seu título e veja se ele representa o seu principal interesse no LinkedIn.<br>\n",
    "Por exemplo, Se você é desenvolvedor, coloque “Analista Desenvolvedor + Linguagem + Sênior/Pleno/Junior”.<br>\n",
    "Lembre-se que isso pode aumentar suas chances de aparecer nas buscas.<br>\n",
    "</p>"
   ]
  },
  {
   "cell_type": "markdown",
   "metadata": {},
   "source": [
    "<h2>Setor e mais informações</h2>\n",
    "<p>\n",
    "A sua URL está personalizada? Aproveite para verificar e editar agora.\n",
    "<li>Aproveite para confirmar se o setor selecionado está de acordo com a sua atuação.\n",
    "<li>Aproveite e insira o link do seu site ou blog se você tiver.\n",
    "<li>Quanto ao número de telefone e endereço, deixe em branco por uma questão de segurança.\n",
    "<li>Quando inserir o cargo, evite de colocar termos como “em busca de nova oportunidade”, “disponível para trabalhar” porque isso pode diminuir suas chances de aparecer nas buscas. Se você começou a estudar, coloque as palavras chaves, por exemplo “estudante de marketing”, “estudante de Design”.\n",
    "</p>"
   ]
  },
  {
   "cell_type": "markdown",
   "metadata": {},
   "source": [
    "<h2>Resumo</h2>\n",
    "<p>\n",
    "Vimos que o Resumo é considerado como a cereja do bolo do perfil, ou seja, é o momento onde podemos cativar a atenção das pessoas ao dizer quem somos e o que podemos fazer por elas.<br>\n",
    "Pensando nisso, aproveite para atualizar o seu perfil agora também.<br>\n",
    "Se você está iniciando sua jornada profissional e precisa de uma inspiração, complete os espaços com informações sobre você. Lembre-se de ajustar o texto de acordo com o que tem mais a ver com você. Esse é apenas o primeiro passo. Depois disso você pode atualizar o seu resumo sempre que achar importante.<br>\n",
    "<br>\n",
    "**Estudante de _, busco oportunidade para adquirir experiência em (com)____, __, _, _ e ___.<br>\n",
    "Prezo sempre por trabalhar em equipe, cooperando com todos e ajudando da melhor maneira possível, com grande satisfação em ensinar e aprender.<br>\n",
    "Busco oportunidade profissional que permita meu crescimento intelectual, profissional e técnico, assim podendo contribuir com ela por muito tempo, à medida que crescemos juntos.**\n",
    "</p>\n"
   ]
  },
  {
   "cell_type": "markdown",
   "metadata": {},
   "source": [
    "<h2>Foto do Perfil</h2>\n",
    "<p>\n",
    "Pensar sempre: Como ser visto pelo recrutador?<br>\n",
    "<br>\n",
    "Uma foto pode transmitir muitas coisas, e o que é mais esperado no LinkedIn? Evitar utilizar imagens cortadas (tiradas com namorados(as) ou familiares), já que esse tipo de imagem não transmite profissionalismo. O mesmo é válido para fotos de casamentos, eventos sociais ou de férias.<br>\n",
    "<br>\n",
    "No LinkedIn, é nnecessário transmitir profissionalismo e seriedade. O ideal é que a foto foque o rosto e, no máximo, os ombros e a região do busto.<br>\n",
    "<br>\n",
    "Pode ser adicionado um fundo que remeta às preferências e interesses.<br>\n",
    "<br>\n",
    "Precisa ser pensado que um possível recrutador, por meio deste perfil, tenha uma primeira impressão sobre os interesses e capacidades. As imagens ajudam nesse processo, criando um efeito estético mais bonito.\n",
    "\n",
    "Alguns links para fotos gratuitas:\n",
    "<li><a href=\"https://www.freeimages.com/es\">Free images</a>;\n",
    "<li><a href=\"https://pixabay.com/pt/\">Pixabay</a>;\n",
    "<li><a href=\"https://www.freepik.es\">FreePik</a>;\n",
    "<li><a href=\"https://morguefile.com\">Morguefile</a>;\n",
    "</p>"
   ]
  }
 ],
 "metadata": {
  "language_info": {
   "name": "python"
  }
 },
 "nbformat": 4,
 "nbformat_minor": 2
}
