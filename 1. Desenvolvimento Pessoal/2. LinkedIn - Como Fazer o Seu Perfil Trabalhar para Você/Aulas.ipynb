{
 "cells": [
  {
   "cell_type": "markdown",
   "metadata": {},
   "source": [
    "<h1 style=\"color:cornflowerblue\">Por Dentro do LinkedIn</h1>"
   ]
  },
  {
   "cell_type": "markdown",
   "metadata": {},
   "source": [
    "<h2>O que fazer?</h2>\n",
    "\n",
    "<p>\n",
    "<li>É importante ressaltar o que o LinkedIn não é algo estático, ou seja, um repositório de currículos, mas sim uma plataforma na qual é possível interagir com outras pessoas, seja por meio das publicações na timeline, de artigos compartilhados, de opiniões ou de discussões nos grupos de interesse.\n",
    "<li>Não é um local para enviar spam. Evitar mensagens que copiadas e coladas.\n",
    "<li>Ë importante definir objetivos claros: conseguir um novo trabalho? Fortalecer a presença digital ou sua marca pessoal no LinkedIn? Quer estabelecer relações e contatos profissionais? Ficar atualizado sobre as principais vagas do mercado? Aumentar a visibilidade ou melhorar o posicionamento profissional? Ou acompanhar as empresas que gostaria de trabalhar, seja para ficar sabendo de eventos dos quais possa participar ou de vagas? Existem vários objetivos que podem ser estabelecidos ao utilizar o LinkedIn.<br>\n",
    "<br>\n",
    "\n",
    "Algumas informações e dados que nos ajudarão a ter algumas referências sobre a plataforma:\n",
    "\n",
    "<li>mais de 500 milhões de usuários cadastrados\n",
    "<li>40% dos usuários utilizam o LinkedIn diariamente\n",
    "<li>106 milhões de usuários estão ativos mensalmente\n",
    "<li>3 milhões de usuários compartilham conteúdo semanalmente\n",
    "<li>80% dos leads dos negócios B2B surgem por meio de interações no LinkedIn\n",
    "<li>56% dos usuários são do gênero masculino, e 44% feminino\n",
    "<li>o Brasil é o país com o terceiro maior número de usuários na rede\n",
    "</p>"
   ]
  },
  {
   "cell_type": "markdown",
   "metadata": {},
   "source": [
    "<h1 style=\"color:cornflowerblue\">Perfil com Pouca Experiência</h1>"
   ]
  },
  {
   "cell_type": "markdown",
   "metadata": {},
   "source": [
    "<h2>Título</h2>\n",
    "<p>\n",
    "Independente se você já tem seu perfil ou se criou ele agora, visualize o seu título e veja se ele representa o seu principal interesse no LinkedIn.<br>\n",
    "Por exemplo, Se você é desenvolvedor, coloque “Analista Desenvolvedor + Linguagem + Sênior/Pleno/Junior”.<br>\n",
    "Lembre-se que isso pode aumentar suas chances de aparecer nas buscas.<br>\n",
    "</p>"
   ]
  },
  {
   "cell_type": "markdown",
   "metadata": {},
   "source": [
    "<h2>Setor e mais informações</h2>\n",
    "<p>\n",
    "A sua URL está personalizada? Aproveite para verificar e editar agora.\n",
    "<li>Aproveite para confirmar se o setor selecionado está de acordo com a sua atuação.\n",
    "<li>Aproveite e insira o link do seu site ou blog se você tiver.\n",
    "<li>Quanto ao número de telefone e endereço, deixe em branco por uma questão de segurança.\n",
    "<li>Quando inserir o cargo, evite de colocar termos como “em busca de nova oportunidade”, “disponível para trabalhar” porque isso pode diminuir suas chances de aparecer nas buscas. Se você começou a estudar, coloque as palavras chaves, por exemplo “estudante de marketing”, “estudante de Design”.\n",
    "</p>"
   ]
  },
  {
   "cell_type": "markdown",
   "metadata": {},
   "source": [
    "<h2>Resumo</h2>\n",
    "<p>\n",
    "Vimos que o Resumo é considerado como a cereja do bolo do perfil, ou seja, é o momento onde podemos cativar a atenção das pessoas ao dizer quem somos e o que podemos fazer por elas.<br>\n",
    "Pensando nisso, aproveite para atualizar o seu perfil agora também.<br>\n",
    "Se você está iniciando sua jornada profissional e precisa de uma inspiração, complete os espaços com informações sobre você. Lembre-se de ajustar o texto de acordo com o que tem mais a ver com você. Esse é apenas o primeiro passo. Depois disso você pode atualizar o seu resumo sempre que achar importante.<br>\n",
    "<br>\n",
    "**Estudante de _, busco oportunidade para adquirir experiência em (com)____, __, _, _ e ___.<br>\n",
    "Prezo sempre por trabalhar em equipe, cooperando com todos e ajudando da melhor maneira possível, com grande satisfação em ensinar e aprender.<br>\n",
    "Busco oportunidade profissional que permita meu crescimento intelectual, profissional e técnico, assim podendo contribuir com ela por muito tempo, à medida que crescemos juntos.**\n",
    "</p>\n"
   ]
  },
  {
   "cell_type": "markdown",
   "metadata": {},
   "source": [
    "<h2>Foto do Perfil</h2>\n",
    "<p>\n",
    "Pensar sempre: Como ser visto pelo recrutador?<br>\n",
    "<br>\n",
    "Uma foto pode transmitir muitas coisas, e o que é mais esperado no LinkedIn? Evitar utilizar imagens cortadas (tiradas com namorados(as) ou familiares), já que esse tipo de imagem não transmite profissionalismo. O mesmo é válido para fotos de casamentos, eventos sociais ou de férias.<br>\n",
    "<br>\n",
    "No LinkedIn, é necessário transmitir profissionalismo e seriedade. O ideal é que a foto foque o rosto e, no máximo, os ombros e a região do busto.<br>\n",
    "<br>\n",
    "Pode ser adicionado um fundo que remeta às preferências e interesses.<br>\n",
    "<br>\n",
    "Precisa ser pensado que um possível recrutador, por meio deste perfil, tenha uma primeira impressão sobre os interesses e capacidades. As imagens ajudam nesse processo, criando um efeito estético mais bonito.\n",
    "\n",
    "Alguns links para fotos gratuitas:\n",
    "<li><a href=\"https://www.freeimages.com/es\">Free images</a>;\n",
    "<li><a href=\"https://pixabay.com/pt/\">Pixabay</a>;\n",
    "<li><a href=\"https://www.freepik.es\">FreePik</a>;\n",
    "<li><a href=\"https://morguefile.com\">Morguefile</a>;\n",
    "</p>"
   ]
  },
  {
   "cell_type": "markdown",
   "metadata": {
    "vscode": {
     "languageId": "plaintext"
    }
   },
   "source": [
    "<h2>Experiência e Compoetência</h2>\n",
    "<p>\n",
    "É possível colocar o título do cargo - por exemplo, \"Estagiário em Design digital na AGEX\". Já na descrição é adicionada uma breve explicação das atribuições relativas ao cargo, que é uma informação que pode ser copiada diretamente do currículo. Nada impede de, no campo \"Descrição\", descrever um pouco sobre a própria empresa, adicionando uma pequena descrição. Também é possível subir um arquivo de mídia ou adicionar um link. A opção \"Compartilhar com a rede\", pode ser mantida ativada para que as pessoas recebam notificações a respeito da carreira e evolução na empresa. É uma funcionalidade opcional e vai depender dos seus interesses.<br>\n",
    "<br>\n",
    "Projetos temporários podem ser adicionados na aba de \"Projetos\"<br>\n",
    "<br>\n",
    "Ainda que as pessoas iniciem no LinkedIn como estudante ou estagiário, todos os profissionais possuem características, sejam elas soft skills (que são habilidades de comunicação, de interagir com outras pessoas e de liderança), sejam elas competências mais técnicas, também conhecidas como hard skills (como aquelas de um programador ou desenvolvedor, que precisa se aprofundar em uma linguagem de programação). Esses pontos fortes, ou skills/competências podem ser adicionados no perfil.\n",
    "</p>"
   ]
  },
  {
   "cell_type": "markdown",
   "metadata": {},
   "source": [
    "<h2>Conquistas e Recomendações</h2>\n",
    "<p>\n",
    "O LinkedIn possui campos para adição de cursos realizados. Importante sempre deixar o campo atualizado, assim como as definições de proeficiência em idiomas.<br>\n",
    "<br>\n",
    "As recomendações são importantes no LinkedIn. Então quando se fala de recomendação, o objetivo é enaltecer as características, os hard skills, os soft skills daquela pessoa.\n",
    "</p>"
   ]
  },
  {
   "cell_type": "markdown",
   "metadata": {},
   "source": [
    "<h2>Faça sua Recomendação</h2>\n",
    "<p>\n",
    "Uma dica para iniciar os processos de recomendação é justamente escrever sobre alguém com quem trabalhou. Se em alguns dias não houver uma recomendação de retorno, ai podem ser feitas solicitações pelo próprio linkedin ou mesmo conversando com a pessoa. Cuidado para falar com pessoas que conheçam o trabalho e que podem gerar um engajamento genuino na recomendação escrita.\n",
    "</p>"
   ]
  },
  {
   "cell_type": "markdown",
   "metadata": {},
   "source": [
    "<h1 style=\"color:cornflowerblue\">Perfil com Algumas Experiências</h1>"
   ]
  },
  {
   "cell_type": "markdown",
   "metadata": {},
   "source": [
    "<h2>Perfil Pouco Experiente</h2>\n",
    "\n",
    "<p>\n",
    "A sugestão é que se utilize do curriculum e comece a transportar essas informações para o perfil LinkedIn. iniciar pelas informações disponíveis, como formação acadêmica, experiência profissional.<br>\n",
    "<br>\n",
    "Formação, graduação, área de estudo. O curso que está fazendo e previsão de formatura. Nota não é uma informação relevante, atividades e grupos também não.<br>\n",
    "<br>\n",
    "\n",
    "Estágios e trabalhos voluntários também são importantes para se ter visibilidade.<br>\n",
    "<br>\n",
    "Quando um recrutador vai fazer uma busca por um profissional ele coloca geralmente as principais palavras chaves que remetem a quem ele quer contratar. Dessa forma se busca por Analista de Marketing e não Analista de Marketing procurando emprego ou em busca de recolocação. A gente coloca “Em busca de novas oportunidades” ou “Recolocação” a gente se fecha muito o campo de pesquisa do perfil. É importante ele colocar palavras chaves, aquelas que vão definir os interesses ou freelancers que se tem.<br>\n",
    "<br>\n",
    "O ideal quando a gente fala em URL do LinkedIn é sempre deixar nome e o sobrenome.\n",
    "</p>"
   ]
  },
  {
   "cell_type": "markdown",
   "metadata": {},
   "source": [
    "<h2>Resumo</h2>\n",
    "<p>\n",
    "É considerado como a cereja do bolo do perfil, ou seja, é o momento de cativar a atenção das pessoas ao dizer quem somos e o que podemos fazer por elas.<br>\n",
    "<br>\n",
    "*Minha trajetória profissional começou como ____. Atualmente, estudo _.<br>\n",
    "Sou uma pessoa _ e que gosta de ___. Aprender faz parte do meu dia a dia e os desafios me mantém sempre motivado a descobrir as melhores soluções.<br>\n",
    "Busco oportunidade para ____ na área de ____, onde eu possa desenvolver meus conhecimentos técnicos e crescer junto com a empresa e com meus colegas de trabalho.*<br   >\n",
    "</p>"
   ]
  },
  {
   "cell_type": "markdown",
   "metadata": {},
   "source": [
    "<h2>Cursos, Projetos e Competências</h2>\n",
    "<p>\n",
    "Importante que Cursos e Certificados são itens diferentes. Cursos são relativos ao aprendizado de conteúdos específicos, enquanto certificados são certificações de utilização do conhecimento.<br>\n",
    "<br>\n",
    "Adicionar projetos, sejam profissionais (e com consentimento dos empregadores), pessoais, freelancer ou hobby. É importante mostrar os projetos.<br>\n",
    "<br>\n",
    "\n",
    "</p>"
   ]
  },
  {
   "cell_type": "markdown",
   "metadata": {},
   "source": [
    "<h1 style=\"color:cornflowerblue\">Perfil mais Experiente</h1>"
   ]
  },
  {
   "cell_type": "markdown",
   "metadata": {},
   "source": [
    "<h2>Perfil com mais Experiência</h2>\n",
    "<p>\n",
    "Segue as mesmas recomendações informadas anterirmente.\n",
    "</p>"
   ]
  },
  {
   "cell_type": "markdown",
   "metadata": {},
   "source": [
    "<h1 style=\"color:cornflowerblue\">Pulse e SSI</h1>"
   ]
  },
  {
   "cell_type": "markdown",
   "metadata": {},
   "source": [
    "<h2>Contatos</h2>\n",
    "<p>\n",
    "A maior vantagem do LinkedIn é o networking. Estar conectado com colegas de profissão, de empresa, de universidade é muito importante para a visibilidade do currículo e do perfil. Lembrar sempre que são pessoas com quem conversamos e que o tratamento dirigido a elas deve ser condizente com a situação e o objetivo com a rede.\n",
    "</p>"
   ]
  },
  {
   "cell_type": "markdown",
   "metadata": {},
   "source": [
    "<h2>Grupos</h2>\n",
    "<p>\n",
    "Os grupos auxiliam no networking ao redor de um tema central. Os grupos são muito interessantes para trocar ideias e informações sobre determinados assuntos, sempre lembrando que não devem ser feito SPAN, já que o propósito é a profissionalização. Interação e compartilhamento de conteúdo são pontos chave para utilização dos grupos de maneira positiva.\n",
    "</p>"
   ]
  },
  {
   "cell_type": "markdown",
   "metadata": {},
   "source": [
    "<h2>Pulse</h2>\n",
    "<p>\n",
    "Surgiu como plataforma de notícias e para os influenciadores. <br>\n",
    "Algumas vantagens:\n",
    "<li>Notificação aos contatos:\n",
    "<li>Ajuda a se posicionar no Google;\n",
    "<li>Gera visibilidae;\n",
    "<li>Aumento de influência;\n",
    "<li>Posicionar-se como expert.<br>\n",
    "<br>\n",
    "\n",
    "É muito importante que as publicações passem por um planejamento de divulgação de conteúdo:\n",
    "<li>Definição da Estratégia: Visibilidade profissiona, fortalecer autoridade na área, compartilhar aprendizados...\n",
    "<li>Periodicidade: publicações em intervalores regulares de tempo;\n",
    "<li>Calendário Editorial: calendário de publicações e organização para criação de conteúdos (datas de publicações, prazos para produção de conteúdo, pautas e temas, palavras chaves e divulgação nas redes sociais);<br>\n",
    "<br>\n",
    "\n",
    "Passos para publicação de conteúdo:\n",
    "<li>Pensar na mensagem geral que se quer transmitir - Encontrar o jeito próprio de divulgação;\n",
    "<li>Fazer um rascunho do artigo e corrigir/avaliar ele;\n",
    "<li>Título e imagens principais;\n",
    "<li>Formatação adequada para o artigo;\n",
    "<li>Divulgação de conteúdo.\n",
    "</p>"
   ]
  },
  {
   "cell_type": "markdown",
   "metadata": {},
   "source": [
    "<h2>Social Selling Index - SSI</h2>\n",
    "<p>\n",
    "É um indice com informações referentes à influencia no LinkedIn, com uma nota de 0 a 100. Pode ser acessado pela url \"https://www.linkedin.com/sales/ssi\" e é possível ver os aspectos que precisam melhorar para aumentar o nível de influência na plataforma.\n",
    "</p>"
   ]
  }
 ],
 "metadata": {
  "language_info": {
   "name": "python"
  }
 },
 "nbformat": 4,
 "nbformat_minor": 2
}
