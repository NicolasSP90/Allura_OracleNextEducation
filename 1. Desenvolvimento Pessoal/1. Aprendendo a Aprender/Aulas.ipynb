{
 "cells": [
  {
   "cell_type": "markdown",
   "metadata": {},
   "source": [
    "<h1 style=\"color:cornflowerblue\">Aprendizagem como Estilo de Vida</h1>"
   ]
  },
  {
   "cell_type": "markdown",
   "metadata": {},
   "source": [
    "<h2>Apresentação</h2>\n",
    "<p>\n",
    "\"Nosso modelo de educação não nos ensinou a aprender, questionar e desaprender\".<br>\n",
    "Alguns pilares para a aprendizagem:\n",
    "<li>Criação de experiências\n",
    "<li>Autoconhecimento e propósito\n",
    "<li>Estilos e tempos diferentes de aprender\n",
    "<li>Disciplina e planejamento\n",
    "<li>Neurociência\n",
    "<li>Hábitos bons e recorrentes\n",
    "<li>Técnicas efetivas de aprendizagem\n",
    "<li>Ferramentas que facilitam a vida\n",
    "</p>"
   ]
  },
  {
   "cell_type": "markdown",
   "metadata": {},
   "source": [
    "<h2>Lifelong Learning</h2>\n",
    "<p>\n",
    "20% das habilidades que aprendemos se tornam defasas em apenas 1 ano. As pessoas estão se capacitando para fazeres que se alteram rapidamente, se não conseguirmos aprender a desaprender uma habilidade para dar lugar a outra mais útil e moderna, corremos o risco de nos tornarmos obsoletos no mercado de trabalho.No atual contexto, carreira não é mais uma sequência de posições, mas uma sequência de experiências ao longo do tempo e fazem impacto real em projetos. Por isso é importante estudar como aprender de forma eficaz e gerar novas experiências impactantes. Não há exatamente um começo, meio e fim, o aprendizado é um processo contínuo que dura a vida inteira, o que o mercado vem nomeando como life long learning."
   ]
  },
  {
   "cell_type": "markdown",
   "metadata": {},
   "source": [
    "<h2>Razões para Aprender</h2>\n",
    "<p>\n",
    "É importante que saibamos o por quê de querermos aprender determinadas habilidades. Uma razão faz toda a diferença no resultado. Precisamos de uma motivação, propósito, missão ou chamado para realizar uma ação. Existem vários motivos para nos adentrarmos em um novo campo de conhecimento, algo que nos dê um sentido de vida é uma das possibilidades.<br>\n",
    "<br>\n",
    "\n",
    "Antigamente, acreditávamos que as pessoas durante os primeiros anos de carreira adquiriam um grande volume de conteúdo, profundo em uma área de especialização. Posteriormente, apenas iam sobrevoando temas de maneira genérica e rasa.Um estudo recente da McKinsey Company nos revela que esse modelo não é mais real, pois não condiz com a realidade de mercado. Atualmente, temos a primeira leva de conteúdos até mais ou menos os 25 anos - período em que normalmente é realizado cursos de graduação - mas ao longo da vida temos novos momentos de estudar profundamente outros temas.Esses novos períodos de aprofundamento ou servem para ampliar as possibilidades de atuação ou mudar completamente de carreira.<br>\n",
    "<br>\n",
    "\n",
    "Existe um conceito japonês chamado <b>IKIGAI</b>. Trata-se de um estudo para que entendermos o que move as pessoas e encontra sua razão de existir. O IKIGAI possui quatro pilares: \n",
    "<li>O primeiro é sobre aquilo que se ama, algo que realmente faria se não precisasse se preocupar com dinheiro.\n",
    "<li>O segundo pilar: aquilo em que somos bons em realizar. Quando conseguimos unir aquilo que amamos e que somos bons, encontramos a primeira parte do IKIGAI.\n",
    "<li>A terceira parte do IKIGAI: o seu fazer precisa ser financiado, isto é, alguém precisa pagar pelo seu trabalho.\n",
    "<li> quarta parte, mais profunda, que está relacionada ao propósito de existência, missão ou vocação. Em suma, contribuição que fornecemos para o mundo e para o coletivo.<br>\n",
    "<br>\n",
    "\n",
    "Quando conseguimos unir esses quatro pilares, encontramos nosso IKIGAI. Parece ser algo utópico, fantasioso, mas o IKIGAI é uma aspiração, algo que devemos buscar continuamente. Dessa maneira, podemos encontrar um caminho para decidir o que aprender, e então podemos escolher estudos e trabalhos que nos levam mais próximos ao nosso IKIGAI.<br>\n",
    "O desafio é conseguimos unir aquilo em que somos bons e achar uma forma de aplicar. O IKIGAI é aquilo em que nos focamos. E se já sabemos aquilo que nos move, começamos a explorar nosso IKIGAI e então podemos nos aprofundar em temas diferentes para construir zonas de saber.\n",
    "</p>"
   ]
  },
  {
   "cell_type": "markdown",
   "metadata": {},
   "source": [
    "<h2>Estilos de Aprender</h2>\n",
    "<p>\n",
    "Em suma, existem quatro estilos de aprendizado:\n",
    "<li>Acomodador : aprende com o que o outro tem a dizer.\n",
    "<li>Divergente : aprende debatendo ideias. Utiliza da intuição e imaginação.\n",
    "<li>Convergente : aprendem resolvendo problemas.\n",
    "<li>Assimilador : aprendem analisando e observando.<br>\n",
    "<br>\n",
    "\n",
    "A Universidade de Pernambuco disponibilizou um <a href=\"https://estiloaprendizagemkolb.github.io\">Inventário de Estilo de Aprendizagem</a> para saber o estilo de aprendizagem.\n",
    "</p>"
   ]
  },
  {
   "cell_type": "markdown",
   "metadata": {},
   "source": [
    "<h1 style=\"color:cornflowerblue\">Talento ou Disciplina?</h1>"
   ]
  },
  {
   "cell_type": "markdown",
   "metadata": {},
   "source": [
    "<h2>Zonas de Aprendizagem</h2>\n",
    "<p>\n",
    "Basicamente existem algumas zonas de aprendizagem:\n",
    "<li>Zona de Conforto: existe quando a competência é alta e a exigência é baixa e dessa forma não se aprende nada novo.  \n",
    "<li>Zona de Entusiasmo: quando existe motivação para o aprendizado de uma competência nova. \n",
    "<li>Zona de Estresse: no caminho de aprendizagem o processo se torna custoso e difícil com diversos desafios. \n",
    "<li>Zona de Aprendizagem: A medida que as competências aumentam e se entra em um estado de \"flow\", de constância de aprendizado e crescimento, verifica-se a zona de aprendizagem.\n",
    "</p>"
   ]
  },
  {
   "cell_type": "markdown",
   "metadata": {},
   "source": [
    "<h2>Disciplina</h2>\n",
    "<p>\n",
    "Se a aprendizagem não ocorre na zona de conforto é preciso ter disciplina para atingir a zona de aprendizagem. Primeiramente, devemos ter em vista que direção é muito mais importante que velocidade. É importante que tenhamos consistência nos processos.<br>\n",
    "<br>\n",
    "\n",
    "Exemplo: Uma página é lida, em média, em um tempo de 2 minutos; 30 páginas 1 hora; 300 páginas 10 horas. Se dividir essas horas em um mês, é possível ler 20 minutos por dia ou aproximadamente 12 livros por ano. Uma pequena mudança pode alterar radicalmente a aquisição de conhecimento.<br>\n",
    "<br>\n",
    "\n",
    "Maxwell Maltz, elaborou uma teoria conhecida por \"teoria dos 21 dias\" em 1960. A tese de Maxwell alega que as pessoas conseguem ganhar novos hábitos depois de repeti-los por 21 dias. Contudo, em 2009, Phillippa Lally elaborou outra teoria com base em diversos estudos, e chegou ao número de 66 dias.<br>\n",
    "<br>\n",
    "\n",
    "Para criarmos um hábito é importante pensar em três tópicos: Disciplina, Recorrência e Foco.\n",
    "</p>"
   ]
  },
  {
   "cell_type": "markdown",
   "metadata": {},
   "source": [
    "<h2>Elimine as Barreiras</h2>\n",
    "<p>\n",
    "Ralo de atenção é aquilo que captura a atenção e leva embora, afasta daquilo em que realmente ela deveria estar repousada.<br>\n",
    "<br>\n",
    "É necessário remover barreiras físicas e emocionais. A primeira delas, e talvez a mais famosa, é falta de tempo. Na verdade, geralmente o que falta é priorização ao invés de tempo. É verdade que o dia contém apenas 24 horas e isso não pode ser controlado. Mas pode-se pensar de que maneira essas 24h podem ser geridas. Ponderar se as outras atividades são mais importantes do que as novas demandas de aprendizagem. É necessário lembrar sempre que o mundo se modifica em uma velocidade contínua, e é preciso acompanhar essas mudanças.<br>\n",
    "<br>\n",
    "\n",
    "Distrações na internet: quantas vezes uma atividade é interrompida por conta de desfoque da atenção para o celular? Devem ser organizados tempos específicos para estudo produtivo, removendo barreiras, desligando redes sociais. Todas as vezes que uma atividade é interrompida, o cérebro demora muito para retornar ao nível de atenção que estava engajado anteriormente.<br>\n",
    "<br>\n",
    "\n",
    "Pensar em outras tarefas a serem feitas. Estar concentrado em uma tarefa, mas pensando em outras tarefas futuras. Devem ser focadas as atividades que nos comprometemos a realizar naquele momento. Uma dica para evitar esse tipo de situação é utilizar algum tipo de marcação para \"registrar\" a pendência e removê-la do pensamento, para posterior solução.<br>\n",
    "<br>\n",
    "\n",
    "Interrupção de pessoas. Pessoas podem demandar atenção no momento em que os processos de aprendizagem (ou outros momentos) estão em execução. Podem ser utilizados artificios e informativos para informar que no momento a atenção não pode ser desviada.<br>\n",
    "<br>\n",
    "\n",
    "Medo da mudança. Aprendizado é uma questão de disciplina, prática e rotina. Se forem dedicadas horas em um assunto, aquilo será aprendido.<br>\n",
    "<br>\n",
    "\n",
    "Ansiedade. Esse é um problema que perturba a paz de todos. Além dos pontos anteriores, podem ser planejadas práticas de relaxamento, técnica de Yoga para controlar a respiração, entre outros.<br>\n",
    "<br>\n",
    "\n",
    "Falta de celebração. É necessário celebrar a recompensa e ganhos da rotina, de gerar felicidade a partir das capacidades. Isso diminui a ansiedade e contribui para a continuidade dos processos.\n",
    "</p>"
   ]
  },
  {
   "cell_type": "markdown",
   "metadata": {},
   "source": [
    "<h2>habitos para serem criados</h2>\n",
    "<p>\n",
    "Bons hábitos para otimizar o processo de aprendizagem:\n",
    "<li>É importante que ter várias e boas fontes: formatos diferentes, autores e professores. Dessa forma é possível questionar as informações, questionar e fazer comparações entre os conteúdos.\n",
    "<li>A curiosidade é o motor da aprendizagem: é necessário fazer perguntas e se divertir com isso. O despertar da curiosidade sempre instiga  o conhecimento e facilita o entendimento e compreensão. Ao criar o hábito da curiosidade.\n",
    "<li>Networking. É muito importante conhecer pessoas, manter a relação ativa com essas pessoas e trocar informações.\n",
    "<li>O feedback é um hábito de aprendizagem muito importante.  Todos possuem coisas que se tem consciência que precisam ser melhoradas, mas o problema são aquelas que ainda não se tem consciência! O feedback ajuda a entender o que é necessário mehorar.\n",
    "<li>Encontrar um mentor: Encontrar alguém que conheça mais sobre o tema para pedir ajuda. Fazer perguntas e tirar dúvidas.\n",
    "<li>Combinar teoria e prática: apesar das variedades de formato de aprendizagem, é importante que sempre que for aprender algo novo, ler, entender e praticar.\n",
    "</p>"
   ]
  },
  {
   "cell_type": "markdown",
   "metadata": {},
   "source": [
    "<h1 style=\"color:cornflowerblue\">Desvendando o Cérebro</h1>"
   ]
  },
  {
   "cell_type": "markdown",
   "metadata": {},
   "source": [
    "<h2>Mindset Fixo e de Crescimento</h2>\n",
    "<p>\n",
    "Existe um livro muito interessante, escrito por Carol S. Djweck, chamado Mindset. Trata-se de uma pesquisa bastante profunda que nos explana que o cérebro tem duas formas de funcionar. Existem pessoas com mindset de crescimento e outro fixo. Nada é 100% imutável, mesmo a pesquisa de Carol se atualizou e ensina como podemos trabalhar o cérebro para pensar de uma maneira diferente e desenvolver novas capacidades.\n",
    "<li>Mindset Fixo: dificulta a aprendizagem de novas habilidades.\n",
    "<li>Mindset de Crescimento: impulsiona e facilita o processo de aprendizagem.<br>\n",
    "<br>\n",
    "\n",
    "Pensamentos relacionados ao Mindset Fixo:\n",
    "<li>A quantidade de inteligência é limitada. A capacidade de aprender vai até certo ponto, depois não existe competência para desenvolvimento.\n",
    "<li>Ser bom em apenas certas coisas. Selecionar algumas atividades que alguém é bom e descartamos outras como se não pudessem ser desenvolvidas.\n",
    "<li>Desistir quando fica muito difícil. Duvidar da capacidade quando em algum ponto o processo de aprendizagem apresenta desafios.\n",
    "<li>Não se sintir bem com grandes desafios. Preferir permanecer na zona de conforto, em vez de encarar novas atividades desafiadoras.\n",
    "<li>Feedback é uma crítica. Não conseguir lidar com bem feedbacks e agregá-los ao processo de desenvolvimento.\n",
    "<li>Preferir fazer coisas que já se sabe. Está relacionado a permanecer na zona de conforto.<br>\n",
    "<br>\n",
    "\n",
    "Pensamentos relacionados ao Mindset Crescimento:\n",
    "<li>A quantidade de inteligência é ilimitada\n",
    "<li>É possível ser bom em qualquer coisa\n",
    "<li>Fazer dar certo\n",
    "<li>Gostar de novos desafios\n",
    "<li>Feedback é uma ajuda para crescer\n",
    "<li>Gostar de aprender a fazer coisas novas\n",
    "</p>"
   ]
  },
  {
   "cell_type": "markdown",
   "metadata": {},
   "source": [
    "<h2>Modos focado e difuso</h2>\n",
    "<p>\n",
    "Existem duas maneiras de operação do cérebro: focado e difuso.<br>\n",
    "No modelo focado o cérebro debruça sua atenção para resolver problemas pontuais, e então percorre caminhos conhecidos para a resolução de problemas, isto é, utiliza de metodologias familiares. Quando se esta no modelo focado são acionadas partes muito específicas do cérebro, quando muitas vezes seria necessário acessar uma nova forma de pensar, fora dos percursos já conhecidos.<br>\n",
    "Já o modelo difuso, articula processos distraídos, sem metodologia definida, é possível encontrar novos caminhos. E por isso é possível encontrar novas soluções nesse estado e vincular os neurônios de outra maneira. Com o modo difuso tem-se uma visão ampliada, com conexões inconscientes de maneira aleatória, assim chegando a novas soluções.<br>\n",
    "<br>\n",
    "\n",
    "Técnicas comprovadas para melhorar a capacidade cerebral e \"acionar\" o modo difuso mais ativamente:\n",
    "<li>Estudar mais de um tema por vez.\n",
    "<li>Ler dois livros ao mesmo tempo.\n",
    "<li>Ter um emprego e um projeto voluntário\n",
    "<li>Não abrir mão dos momentos de ócio\n",
    "</p>"
   ]
  },
  {
   "cell_type": "markdown",
   "metadata": {},
   "source": [
    "<h2>Formatos de aprendizagem</h2>\n",
    "<p>\n",
    "É importante dizer que só ouvindo conteúdos fomenta-se o modelo focado, e não o difuso. Deve-se evitar o mindset fixo de que só se aprende ouvindo, então é interessante desenvolver outras habilidades de aprendizado. Essa é a grande importância de combinar métodos.\n",
    "\n",
    "<li>Algumas pessoas são mais auditivas que outras, portanto aprendem melhor novas informações ouvindo do que lendo. Neste caso, pode-se ouvir podcasts, audiobooks ou gravações de aula.\n",
    "<li>Modelo visual, isto é, utilizar infográficos, powerpoints, vídeo aulas e mapas mentais.\n",
    "<li>Leitura e a escrita: livros, sites, blogs, artigos e resumos que estão em formato textual. Muitas vezes escrever resumos também facilita na aquisição de novos conhecimentos.\n",
    "<li>Pessoas cinestésicas: uma boa metodologia são os eventos, projetos, On the Job.\n",
    "</p>"
   ]
  },
  {
   "cell_type": "markdown",
   "metadata": {},
   "source": [
    "<h2>Pratica distribuida x cramming</h2>\n",
    "<p>\n",
    "Em 1885, Ebbinghaus estudou a capacidade da memória de reconhecimento ao longo do tempo. Em média, as pessoas quando estudam algo, depois de 10 minutos ainda retêm esse conhecimento 100%. Depois de 24h, essa porcentagem cai para 40%. Passada uma semana, o valor cai novamente e chega a 20% e depois de um mês 10%.<br>\n",
    "Glasser descobriu formas para que a retenção de conhecimento fosse impulsionada: Deve-se oscilar entre modais de aprendizagem.<br>\n",
    "Se, de maneira geral, tem-se uma curva decrescente da retenção do conhecimento, como mudar isso para uma curva crescente? Ebbinghaus descobriu o poder das revisões. Depois de aprender algo e após um tempo reforçar esse conhecimento, a curva se modifica.<br>\n",
    "Fazer revisões após 1h, 24h e assim sucessivamente, auxilia o cérebro a de fato solidificar o conhecimento. As revisões são muito poderosas em construir memórias fixas.<br>\n",
    "Existe uma outra técnica chamada cramming, que consiste em basicamente aprender altos volumes de conteúdo em curto prazo. Essa técnica funciona se as informações forem usadas imediatamente, mas depois serão esquecidas.<br>\n",
    "A melhor forma de fixar conhecimento é realizar a prática distribuída. Significa que em uma linha de tempo distribuímos os estudos para que parte desses momentos façam parte das revisões, assim a curva de aprendizado se mantenha regular.\n",
    "</p>"
   ]
  },
  {
   "cell_type": "markdown",
   "metadata": {},
   "source": [
    "<h2>Memória de Longo Prazo</h2>\n",
    "<p>\n",
    "Aprendizagem é o processo de adquirir informação para memória de longo prazo, juntar diferentes blocos de conhecimento e saber aplicá-los. Não se trata, portanto, de decorar uma informação.<br>\n",
    "O conhecimento é construído, portanto, de diversos blocos, como tijolos em uma grande parede. Como uma parede, ele precisa de tempo para ser construído e desmontado. Simplesmente jogar cimento e tijolos de maneira desordenada e rápida, não irá gerar um muro consistente. É necessário integrar diferentes conhecimentos e saber aplicá-los. É necessário que se tenha ideias de impacto para colocar os saberes em prática. Desconstruir uma habilidade em sub-habilidades, pequenas partes a serem aprendidas. Esses pequenos blocos de conhecimento são chamados de chunks, grupos de informação, parecidas, simples de lembrar e facilmente absorvidos. Ao fim, juntando os blocos são  criados aprendizados mais complexos.<br>\n",
    "Além de separar o conhecimento em blocos, é importante conhecer o contexto de utilização, para dessa foram poder aplicar o conhecimento aprendido. Por fim, é necessário ter disciplina para manter o aprendizado no longo prazo.\n",
    "</p>"
   ]
  },
  {
   "cell_type": "markdown",
   "metadata": {},
   "source": [
    "<h1 style=\"color:cornflowerblue\">O Poder das Metas</h1>"
   ]
  },
  {
   "cell_type": "markdown",
   "metadata": {},
   "source": [
    "<h2>Definindo a Meta</h2>\n",
    "<p>\n",
    "Criar metas focadas no processo de aprendizagem. Peter Drucker, pai da administração moderna afirmou que \"o que pode ser medido, pode ser melhorado\". Para fazer o processo de aprendizagem ser efetivo, é necessário garantir sua melhora por meio da medição: Traçar metas e acompanhá-las de forma recorrente.<br>\n",
    "Por que quero aprender? Pode ser por prazer, trabalho, necessidade ou curiosidade.<br>\n",
    "Onde será utilizadoo aprendizado? O conhecimento pode ser aplicado na vida profissional, em um trabalho voluntário, no cotidiano ou nos momentos de lazer.<br>\n",
    "Quando estar pronto? É importante definir uma meta temporal para organizar o tempo de estudo.\n",
    "</p>"
   ]
  },
  {
   "cell_type": "markdown",
   "metadata": {},
   "source": [
    "<h2>Método SMART para Aprendizagem</h2>\n",
    "<p>\n",
    "SMART é um acrônimo para Specific, Mensurable, Achivable, Relevant e Timely.<br>\n",
    "<li>Specific - Metas devem ser específicas, afinal se generalizar demais não será atingivel. Dessa maneira, a meta se torna mensurável, atingível, relevante e possível em um tempo determinado;\n",
    "<li>Mensurable - A meta deve ser mensuráveis. Dessa forma é possível saber se foram gerados resultados práticos e materiais provenientes do nosso estudo;\n",
    "<li>Achivable - Deve ser alcancável. Uma meta irreal não serve como objetivo;\n",
    "<li>Relevant - Deve ser relevante, ou seja, algo que tem uma aplicação e retorno definido;\n",
    "<li>Timely - Deve ser temporal, ter um prazo para aplicação e execução. \n",
    "</p>"
   ]
  },
  {
   "cell_type": "markdown",
   "metadata": {},
   "source": [
    "<h1 style=\"color:cornflowerblue\">Rotina de Aprendizagem</h1>"
   ]
  },
  {
   "cell_type": "markdown",
   "metadata": {},
   "source": [
    "<h2>Rotina de Aprendizagem</h2>\n",
    "<p>\n",
    "O cérebro é programado para economizar energia e repetir padrões conhecidos e confortáveis, por isso que podem ser gerados círculso viciosos de protelação. A estratégia nesses casos é, de fato, ter disciplina e consistência. Estruturar e organizar. A recorrência é aquilo que faz chegar ao objetivo e continuar aprendendo de maneira estruturada.<br>\n",
    "<br>\n",
    "\n",
    "Existem 5 itens fundamentais para organizar o processo de aprendizagem, e, de fato, criar uma rotina produtiva:\n",
    "\n",
    "<li>Metas claras\n",
    "<li>Processo de aprendizado\n",
    "<li>Hábitos\n",
    "<li>Ralos de Atenção\n",
    "<li>Exercitar além do cérebro\n",
    "</p>"
   ]
  },
  {
   "cell_type": "markdown",
   "metadata": {},
   "source": [
    "<h2>Gestão de tempo e Espaço</h2>\n",
    "<p>\n",
    "<li>Organizar a agenda semanal. A ferramenta para isso pode ser uma agenda de papel, aplicativo, calendário de porta de geladeira ou um painel gigante na sua sala.\n",
    "<li>Definir e respeiter o tempo por dia: organizar a carga horária dos estudos e distribuir tudo isso na semana.\n",
    "<li>Defina os melhores horários e locais. Existem pessoas que funcionam melhor pela manhã, outras pela noite. Há pessoas que precisam de um local tranquilo, com poucas distrações, já outras estudam em qualquer lugar e ignoram totalmente o entorno ou incorporam ele a sua prática.\n",
    "<li>Ralos de atenção. Tomar cuidado para que o foco não seja drenado para redes sociais, interrupções variadas e ruídos de aprendizagem. É bom desligar o celular e fechar a porta do quarto! O cérebro gasta muita energia para se focar novamente no que estava fazendo antes da interrupção, e isso prejudica muito o processo!\n",
    "<li>Existe uma técnica bem interessante de estudo que se chama Pomodoro. Ela consiste de 20 minutos de atenção total em uma tarefa específica, seguido de uma pausa.\n",
    "</p>"
   ]
  },
  {
   "cell_type": "markdown",
   "metadata": {},
   "source": [
    "<h2>Exercite o Corpo e Mente</h2>\n",
    "<p>\n",
    "\"Exercite corpo e mente\", é real! Para ter um processo de aprendizado efetivo, é necessário compreender que o cérebro é um músculo como todos os outros do corpo, e precisa ser exercitado!<br>\n",
    "O cérebro está interligado com todos os outros elementos anatômicos. Se dedicar alguns minutos do dia para praticar exercícios físicos, provavelmente será muito mais fácil desenvolver foco, atenção e apreender com mais rapidez os conteúdos necessários. Em um pequeno artigo da Revista Galileu foi afirmado que:<br>\n",
    "<b>Os pesquisadores da Universidade de Saúde e Ciência de Oregon (OHSU), dos Estados Unidos descobriram que fazer uma atividade física (mesmo que de curta duração) auxilia as conexões entre os neurônios do hipocampo, região cerebral associada ao aprendizado e à memória.</b><br>\n",
    "Esse é um dado que nós não pode ser ignorado e irá ajudar no processo de aprendizagem estruturada.<br>\n",
    "Outra dica muito boa é durma! O cérebro trabalha muito, e precisa de descanso. Dormindo, o cérebro entra no modelo difuso, o mais legal dessa história é que além de entrar no modo difuso, os neurônios passam a ser reconstruídos enquanto dormimos. Em suma, fazer exercícios e dormir é parte crucial das formas de aprendizado.\n",
    "</p>"
   ]
  }
 ],
 "metadata": {
  "language_info": {
   "name": "python"
  }
 },
 "nbformat": 4,
 "nbformat_minor": 2
}
