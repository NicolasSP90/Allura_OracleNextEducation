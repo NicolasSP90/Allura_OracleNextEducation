{
 "cells": [
  {
   "cell_type": "markdown",
   "metadata": {},
   "source": [
    "<h1 style=color:cornflowerblue>O Editor de Códigos VSCode</h1>"
   ]
  },
  {
   "cell_type": "markdown",
   "metadata": {},
   "source": [
    "<p>\n",
    "As páginas web nada mais são que códigos e imagens que tanto estruturam, organizam, definem a aparência e a fazem a interatividade da página.<br>\n",
    "São 3 as linguagens que definem esses itens:\n",
    "<li>HTML (Hyper Text Markup Language): Utiliza de Tags para definir o que é cada elemento. Utilizada para estruturar a página.\n",
    "<li>CSS (Cascading Style Sheets): Utiliza as Tags definidas no HTML, mas com o propósito de estilizar os elementos.\n",
    "<li>JavaScript: Responsável pela interatividade da página.<br>\n",
    "<br>\n",
    "\n",
    "De maneira geral podemos definir um exemplo como:\n",
    "<li>HTML:<br>\n",
    "<p>< p >Esse é um parágrafo.< /p ></p> (Utilizar SEM os Espaços)<br>\n",
    "<br>\n",
    "\n",
    "<li>CSS:<br>\n",
    "p {<br>\n",
    "    color: red;<br>\n",
    "}<br>\n",
    "\n",
    "Nesse exemplo o parágrafo (tag iniciada pelo \"< p >\" no html e estilizada pelo \"p\" no CSS), terá a cor vermelha.<br>\n",
    "<br>\n",
    "\n",
    "Por padrão, um projeto de desenvolvimento possui seu próprio diretorio que é organizado com pastas e subpastas e o principal arquivo arquivo html tem nome index.html."
   ]
  },
  {
   "cell_type": "markdown",
   "metadata": {},
   "source": [
    "<h1 style=color:cornflowerblue>Documentação e HTML</h1>"
   ]
  },
  {
   "cell_type": "markdown",
   "metadata": {},
   "source": [
    "<h2>Documentação e estrutura básica do HTML</h2>\n",
    "<p>\n",
    "Segundo a página w3s, temos a seguinte informação a respeito de html:\n",
    "<li>HTML stands for Hyper Text Markup Language\n",
    "<li>HTML is the standard markup language for creating Web pages\n",
    "<li>HTML describes the structure of a Web page\n",
    "<li>HTML consists of a series of elements\n",
    "<li>HTML elements tell the browser how to display the content\n",
    "<li>HTML elements label pieces of content such as \"this is a heading\", \"this is a paragraph\", \"this is a link\", etc.<br>\n",
    "<br>\n",
    "\n"
   ]
  },
  {
   "cell_type": "markdown",
   "metadata": {},
   "source": [
    "<h2>Para saber mais: documentação do HTML</h2>\n",
    "<h3>A importância da documentação</h3>\n",
    "<p>\n",
    "O que é:<br>\n",
    "<br>\n",
    "A <a href=https://www.w3schools.com/html/html_intro.asp>documentação</a> é um guia que toda pessoa desenvolvedora deve levar a sério no dia a dia, é através dela que aprendemos como funcionam as linguagens de programação e também ferramentas e bibliotecas no mundo da tecnologia.<br>\n",
    "<br>\n",
    "Sua importância:<br>\n",
    "<br>\n",
    "A documentação é muito importante no aprendizado e no desenvolvimento de aplicações. Afinal quem melhor que a pessoa que criou a ferramenta para nos orientar sobre as suas funcionalidades, não é mesmo?<br>\n",
    "<br>\n",
    "Quando devemos utilizar:<br>\n",
    "<br>\n",
    "Devemos ler a documentação sempre que precisamos saber a estrutura de um método, ou quando queremos saber algum comando ou recurso de uma biblioteca, ou até mesmo quando esquecemos certa funcionalidade e precisamos relembrar.<br>\n",
    "<br>\n",
    "Outra forma de ajuda:\n",
    "<li><a href=\"https://stackoverflow.com/\">Stackoverflow</a>\n",
    "<li><a href=\"https://www.w3schools.com/html/html_intro.asp\">W3Schools</a>\n",
    "</p>"
   ]
  },
  {
   "cell_type": "markdown",
   "metadata": {},
   "source": [
    "<h2>Criando o corpo da página</h2>\n",
    "Algumas informações importantes para o corpo da página (< body >):\n",
    "<li> < h1 >Título< /h1 > (Pode ir de 1 até 6)\n",
    "<li> < p > Parágrafo 1< /p >\n",
    "<li> < img src=\"caminho\" alt=\"Título da imagem\" >"
   ]
  },
  {
   "cell_type": "markdown",
   "metadata": {},
   "source": [
    "<h2>Quirk Mode e Live Server</h2>\n",
    "<p>\n",
    "O HTML padrão possui em uma primeira linha de texto \"< !DOCTYPE html >\", que indica ser HTML5.<br>\n",
    "Não necessariamente o arquivo vai deixar de ser lido caso essa informação seja removida, mas a página deve carregar em Quirk Mode, que seria um tipo de códificação de padrões mais antigos de páginas web, onde deveriam ser especificadas as tecnologias em que seria acessada.\n",
    "</p>\n",
    "<p>\n",
    "O Live Server é uma extensão para facilitar a visualização das páginas conforme o código vai tomando forma.\n",
    "</p>\n"
   ]
  },
  {
   "cell_type": "markdown",
   "metadata": {},
   "source": [
    "<h1 style=color:cornflowerblue>Layout e tags semânticas</h1>"
   ]
  },
  {
   "cell_type": "markdown",
   "metadata": {
    "vscode": {
     "languageId": "plaintext"
    }
   },
   "source": [
    "<h2>Desenvolvendo o HTML</h2>\n",
    "<p>\n",
    "O HTML pode ser iniciado de diversas formas. No vídeo, os elementos foram sendo adicionados de modo que as tags de título, paragrafo, etc, foram sendo adicionadas de acordo com o design em FIGMA, da esquerda para a direita e de cima para baixo.\n",
    "</p>"
   ]
  },
  {
   "cell_type": "markdown",
   "metadata": {},
   "source": [
    "<h2>Para saber mais: tags semânticas</h2>\n",
    "<p>\n",
    "Quando começamos um arquivo HTML, há uma estrutura padrão que é usada em qualquer projeto. É importante saber quais são as tags que precisam ser implementadas e entender suas funções dentro do código. Para facilitar esse processo, utilizamos as tags semânticas, que são tags descritivas sobre o conteúdo que armazenam, como é o caso das tags < header >, < main > e < footer >, que conhecemos nessa aula. Elas servem tanto para otimizar a leitura pelos navegadores, como pelas pessoas desenvolvedoras que vão fazer a manutenção do código.<br>\n",
    "<br>\n",
    "Para aprender mais sobre as tags que fazem parte da base de um arquivo HTML, você pode ler a documentação MDN <a href=\"https://developer.mozilla.org/pt-BR/docs/Glossary/Semantics\">“Semântica”</a> e conhecer outros elementos semânticos disponíveis para tornar o seu código mais claro, seja para outras pessoas programadoras, para navegadores ou mecanismos de buscas.\n",
    "</p>"
   ]
  },
  {
   "cell_type": "markdown",
   "metadata": {},
   "source": [
    "<h1 style=color:cornflowerblue>Estilizando o projeto com CSS</h1>"
   ]
  },
  {
   "cell_type": "markdown",
   "metadata": {},
   "source": [
    "<h2>Como funciona o CSS</h2>\n",
    "<p>\n",
    "Se o HTML é uma linguagem de marcação, o CSS é uma linguagem de estilização. Para iniciar é sempre interessante ver a <a href=https://www.w3schools.com/css/>documentação</a>.<br>\n",
    "O CSS é usado para definir estilos para suas páginas Web, incluindo design, layout e variações de exibição para diferentes dispositivos e tamanhos de tela. O CSS da página é normalmente armazenado em um arquivo .css e a aparência inteira do site pode ser alterada mudando apenas um arquivo.\n",
    "</p>"
   ]
  },
  {
   "cell_type": "markdown",
   "metadata": {},
   "source": [
    "<h2>Criando o CSS</h2>\n",
    "<p>\n",
    "Normalmente o arquivo principal é nomeado como \"style.css\". Nesse arquivo é interessante que as estilizações ocorram do elemnento mais genérico, ou que engloba mais elementos, para o mais específico.<br>\n",
    "Por exemplo: No caso do arquivo das aulas, a cor de fundo é padrão para a página inteira e pode ser setada na tag \"body\". Além disso, o texto é brando e pode ser adicionado na mesma tag."
   ]
  },
  {
   "cell_type": "markdown",
   "metadata": {},
   "source": [
    "<h1 style=\"color:cornflowerblue\">Super estilizando seu CSS</h1>"
   ]
  }
 ],
 "metadata": {
  "language_info": {
   "name": "python"
  }
 },
 "nbformat": 4,
 "nbformat_minor": 2
}
