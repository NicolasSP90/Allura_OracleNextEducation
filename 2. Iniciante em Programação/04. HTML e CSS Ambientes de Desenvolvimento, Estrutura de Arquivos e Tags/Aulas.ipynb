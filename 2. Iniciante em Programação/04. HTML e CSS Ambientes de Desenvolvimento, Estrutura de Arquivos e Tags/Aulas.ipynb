{
 "cells": [
  {
   "cell_type": "markdown",
   "metadata": {},
   "source": [
    "<h1 style=color:cornflowerblue>O Editor de Códigos VSCode</h1>"
   ]
  },
  {
   "cell_type": "markdown",
   "metadata": {},
   "source": [
    "<p>\n",
    "As páginas web nada mais são que códigos e imagens que tanto estruturam, organizam, definem a aparência e a fazem a interatividade da página.<br>\n",
    "São 3 as linguagens que definem esses itens:\n",
    "<li>HTML (Hyper Text Markup Language): Utiliza de Tags para definir o que é cada elemento. Utilizada para estruturar a página.\n",
    "<li>CSS (Cascading Style Sheets): Utiliza as Tags definidas no HTML, mas com o propósito de estilizar os elementos.\n",
    "<li>JavaScript: Responsável pela interatividade da página.<br>\n",
    "<br>\n",
    "\n",
    "De maneira geral podemos definir um exemplo como:\n",
    "<li>HTML:<br>\n",
    "<p>< p >Esse é um parágrafo.< /p ></p> (Utilizar SEM os Espaços)<br>\n",
    "<br>\n",
    "\n",
    "<li>CSS:<br>\n",
    "p {<br>\n",
    "    color: red;<br>\n",
    "}<br>\n",
    "\n",
    "Nesse exemplo o parágrafo (tag iniciada pelo \"< p >\" no html e estilizada pelo \"p\" no CSS), terá a cor vermelha.<br>\n",
    "<br>\n",
    "\n",
    "Por padrão, um projeto de desenvolvimento possui seu próprio diretorio que é organizado com pastas e subpastas e o principal arquivo arquivo html tem nome index.html."
   ]
  },
  {
   "cell_type": "markdown",
   "metadata": {},
   "source": [
    "<h1 style=color:cornflowerblue>Documentação e HTML</h1>"
   ]
  },
  {
   "cell_type": "markdown",
   "metadata": {},
   "source": [
    "<h2>Documentação e estrutura básica do HTML</h2>\n",
    "<p>\n",
    "Segundo a página w3s, temos a seguinte informação a respeito de html:\n",
    "<li>HTML stands for Hyper Text Markup Language\n",
    "<li>HTML is the standard markup language for creating Web pages\n",
    "<li>HTML describes the structure of a Web page\n",
    "<li>HTML consists of a series of elements\n",
    "<li>HTML elements tell the browser how to display the content\n",
    "<li>HTML elements label pieces of content such as \"this is a heading\", \"this is a paragraph\", \"this is a link\", etc.<br>\n",
    "<br>\n",
    "\n"
   ]
  },
  {
   "cell_type": "markdown",
   "metadata": {},
   "source": [
    "<h2 style=color:cornflowerblue>Para saber mais: documentação do HTML</h2>\n",
    "<h3>A importância da documentação</h3>\n",
    "<p>\n",
    "O que é:<br>\n",
    "<br>\n",
    "A <a href=https://www.w3schools.com/html/html_intro.asp>documentação</a> é um guia que toda pessoa desenvolvedora deve levar a sério no dia a dia, é através dela que aprendemos como funcionam as linguagens de programação e também ferramentas e bibliotecas no mundo da tecnologia.<br>\n",
    "<br>\n",
    "Sua importância:<br>\n",
    "<br>\n",
    "A documentação é muito importante no aprendizado e no desenvolvimento de aplicações. Afinal quem melhor que a pessoa que criou a ferramenta para nos orientar sobre as suas funcionalidades, não é mesmo?<br>\n",
    "<br>\n",
    "Quando devemos utilizar:<br>\n",
    "<br>\n",
    "Devemos ler a documentação sempre que precisamos saber a estrutura de um método, ou quando queremos saber algum comando ou recurso de uma biblioteca, ou até mesmo quando esquecemos certa funcionalidade e precisamos relembrar.<br>\n",
    "<br>\n",
    "Outra forma de ajuda:\n",
    "<li><a href=\"https://stackoverflow.com/\">Stackoverflow</a>\n",
    "<li><a href=\"https://www.w3schools.com/html/html_intro.asp\">W3Schools</a>\n",
    "</p>"
   ]
  },
  {
   "cell_type": "markdown",
   "metadata": {},
   "source": [
    "<h2>Criando o corpo da página</h2>\n",
    "Algumas informações importantes para o corpo da página (< body >):\n",
    "<li> < h1 >Título< /h1 > (Pode ir de 1 até 6)\n",
    "<li> < p > Parágrafo 1< /p >\n",
    "<li> < img src=\"caminho\" alt=\"Título da imagem\" >"
   ]
  },
  {
   "cell_type": "markdown",
   "metadata": {},
   "source": [
    "<h2>Quirk Mode e Live Server</h2>\n"
   ]
  }
 ],
 "metadata": {
  "language_info": {
   "name": "python"
  }
 },
 "nbformat": 4,
 "nbformat_minor": 2
}
