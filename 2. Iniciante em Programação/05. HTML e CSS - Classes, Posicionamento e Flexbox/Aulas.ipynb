{
 "cells": [
  {
   "cell_type": "markdown",
   "metadata": {},
   "source": [
    "<h1 style=\"color:cornflowerblue\">Seletores e posicionamento</h1>"
   ]
  },
  {
   "cell_type": "markdown",
   "metadata": {},
   "source": [
    "<h2>Classes e Seletores</h2>\n",
    "<p>\n",
    "Classes permitem ao CSS selecionar e acessar elementos específicos através dos seletores de classe. Pode ser visualizada a <a href=\"https://developer.mozilla.org/en-US/docs/Web/HTML/Global_attributes/class\">documentação</a> para mais informações.\n",
    "</p>\n",
    "\n",
    "<p>\n",
    "De forma geral, é importante que os nomes das classes sejam uma referência clara do local de uso. Podem ser visualizadas boas práticas no seguinte <a href=\"https://www.alura.com.br/artigos/nomes-de-classes-no-css\">artigo</a>.\n",
    "</p>\n",
    "\n",
    "<p>\n",
    "A respeito dos seletores, maiores informações estão na <a href=\"https://developer.mozilla.org/pt-BR/docs/Web/CSS/CSS_Selectors\">documentação</a>.\n",
    "</p>\n",
    "\n",
    "<p>\n",
    "Para se aprofundar mais nos conceitos, ler o <a href=\"https://www.alura.com.br/artigos/o-que-e-reset-css\">artigo</a>."
   ]
  },
  {
   "cell_type": "markdown",
   "metadata": {},
   "source": [
    "<h2>Box Model</h2>\n",
    "<p>\n",
    "É um conceito tratado quando se fala de design e layout. É essencialmente uma caixa que engloba todo elemento html. Essa caixa consiste de margem, borda, padding e conteúdo.<br>\n",
    "Alguns browsers possuem valores base para esses elementos, então podem ser aplicados alguns comandos para eliminar esses padrões, para que se tenha controle total da estilização. Por exemplo:<br>\n",
    "<br>\n",
    "<code>\n",
    "* {\n",
    "    border: 0;\n",
    "    padding: 0;\n",
    "}\n",
    "</code><br>\n",
    "<br>\n",
    "O \"*\" informa que todos os elementos infomados serão editados. Nesse caso a borda e o padding (distancia entre a borda e o conteúdo) foram setados para 0.<br>\n",
    "Mais informações podem ser verificadas na <a href=\"https://www.w3schools.com/css/css_boxmodel.asp\">documentação</a>.\n",
    "</p>"
   ]
  }
 ],
 "metadata": {
  "language_info": {
   "name": "python"
  }
 },
 "nbformat": 4,
 "nbformat_minor": 2
}
