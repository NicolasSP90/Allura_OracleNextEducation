{
 "cells": [
  {
   "cell_type": "markdown",
   "metadata": {},
   "source": [
    "<h1 style=\"color:cornflowerblue\">Seletores e posicionamento</h1>"
   ]
  },
  {
   "cell_type": "markdown",
   "metadata": {},
   "source": [
    "<h2>Classes e Seletores</h2>\n",
    "<p>\n",
    "Classes permitem ao CSS selecionar e acessar elementos específicos através dos seletores de classe. Pode ser visualizada a <a href=\"https://developer.mozilla.org/en-US/docs/Web/HTML/Global_attributes/class\">documentação</a> para mais informações.\n",
    "</p>\n",
    "\n",
    "<p>\n",
    "De forma geral, é importante que os nomes das classes sejam uma referência clara do local de uso. Podem ser visualizadas boas práticas no seguinte <a href=\"https://www.alura.com.br/artigos/nomes-de-classes-no-css\">artigo</a>.\n",
    "</p>\n",
    "\n",
    "<p>\n",
    "A respeito dos seletores, maiores informações estão na <a href=\"https://developer.mozilla.org/pt-BR/docs/Web/CSS/CSS_Selectors\">documentação</a>.\n",
    "</p>\n",
    "\n",
    "<p>\n",
    "Para se aprofundar mais nos conceitos, ler o <a href=\"https://www.alura.com.br/artigos/o-que-e-reset-css\">artigo</a>."
   ]
  },
  {
   "cell_type": "markdown",
   "metadata": {},
   "source": [
    "<h2>Box Model</h2>\n",
    "<p>\n",
    "É um conceito tratado quando se fala de design e layout. É essencialmente uma caixa que engloba todo elemento html. Essa caixa consiste de margem, borda, padding e conteúdo.<br>\n",
    "Alguns browsers possuem valores base para esses elementos, então podem ser aplicados alguns comandos para eliminar esses padrões, para que se tenha controle total da estilização. Por exemplo:<br>\n",
    "<br>\n",
    "<code>\n",
    "* {\n",
    "    border: 0;\n",
    "    padding: 0;\n",
    "}\n",
    "</code><br>\n",
    "<br>\n",
    "O \"*\" informa que todos os elementos infomados serão editados. Nesse caso a borda e o padding (distancia entre a borda e o conteúdo) foram setados para 0.<br>\n",
    "Mais informações podem ser verificadas na <a href=\"https://www.w3schools.com/css/css_boxmodel.asp\">documentação</a>.\n",
    "</p>"
   ]
  },
  {
   "cell_type": "markdown",
   "metadata": {},
   "source": [
    "<h2>Posicionando mais elementos</h2>\n",
    "<p>\n",
    "Como padrão, também pode ser utilizado comando para que o conteúdo da página ocupe todo o espaço da tela que está abrindo o site. Pode ser utilizado:<br>\n",
    "<br>\n",
    "\n",
    "<code>body {height: 100vh;}</code><br>\n",
    "<br>\n",
    "\n",
    "Dessa forma o conteudo da tag \"body\" vai ocupar 100% da viewport height (dai o vh).\n",
    "</p>\n",
    "\n",
    "<p>\n",
    "Outra propriedade interessante é a <code>box-sizing: border-box;</code> para garantir que os elementos filhos não \"saiam\" do elemento pai.\n",
    "</p>"
   ]
  },
  {
   "cell_type": "markdown",
   "metadata": {},
   "source": [
    "<h2>Para saber mais: Viewport</h2>\n",
    "<p>\n",
    "Em computação gráfica, a viewport é a porção de área visível de um plano e é utilizada como unidade de medida no CSS para criar páginas Web 100% responsivas. Em outras palavras, a viewport varia de dispositivo para dispositivo, por exemplo em computadores, tablets e celulares, cada tela possui dimensões diferentes e enquanto uma página não responsiva apresentaria os elementos desproporcionais, uma página responsiva utilizando viewport teria seus elementos adequados a cada proporção.<br>\n",
    "Mais informações no <a href=\"https://www.alura.com.br/artigos/guia-de-unidades-no-css\">artigo</a>."
   ]
  },
  {
   "cell_type": "markdown",
   "metadata": {},
   "source": [
    "<h2>Flexbox</h2>\n",
    "<p>\n",
    "Flexbox é uma característica do elemento pai para organização dos elementos internos. Um bom guia para utilização básica do flexbos é: <a href=\"https://css-tricks.com/snippets/css/a-guide-to-flexbox/\">Complete Guide to Flexbox</a>. Deve ser utilizado <code>display: flex;</code> no css do elemento pai.\n",
    "</p>"
   ]
  },
  {
   "cell_type": "markdown",
   "metadata": {},
   "source": [
    "<h1 style=\"color:cornflowerblue\">Estilos de Texto e Fontes</h1>"
   ]
  },
  {
   "cell_type": "markdown",
   "metadata": {},
   "source": [
    "<h2>Alinhando o conteúdo</h2>\n",
    "<p>Após utilizar o comando de flexbox, o é possivel alinhar os elementos utilizando o comando \"justify-content\"."
   ]
  },
  {
   "cell_type": "markdown",
   "metadata": {},
   "source": [
    "<h2>Para saber mais: Google Fonts</h2>\n",
    "<p>\n",
    "<li>Google Fonts:<br>\n",
    "<a href=\"https://fonts.google.com/\">Google Fonts</a> é uma biblioteca da Google com mais de 1000 fontes livres licenciadas. Além de um diretório web interativo para navegar na biblioteca, existem atalhos para usar convenientemente as fontes através do CSS.<br>\n",
    "<br>\n",
    "\n",
    "<li>Como importar as fontes:<br>\n",
    "Para isso, recomendamos a leitura do guia oficial <a href=\"https://developers.google.com/fonts/docs/getting_started\">Primeiros passos com a API Google Fonts</a>, o qual explica passo a passo como funciona e como utilizar a biblioteca.\n",
    "</p>"
   ]
  },
  {
   "cell_type": "markdown",
   "metadata": {},
   "source": [
    "<h1 style=\"color:cornflowerblue\">Manipulando Botões</h1>"
   ]
  },
  {
   "cell_type": "markdown",
   "metadata": {},
   "source": [
    "<h2>Para saber mais: divisões</h2>\n",
    "<p>\n",
    "A tag < div > define uma divisão em um documento HTML e costuma ser usada como um contêiner para outros elementos, o que ajuda na estilização do bloco. Por esse motivo, a < div > é frequentemente utilizada quando precisamos agrupar elementos sem usar as tags semânticas do HTML. Isso acontece porque a < div > não tem valor semântico. Portanto, não significa nada para os navegadores e mecanismos de pesquisa.<br>\n",
    "<br>\n",
    "\n",
    "Além do mais, por ser muito utilizada para agrupar elementos, acaba facilitando na organização das informações nos layouts. Dessa forma, pode ser formatada e manipulada organicamente via CSS. Geralmente vem acompanhado de atributos de ID e classe para facilitar essa organização e formatação.<br>\n",
    "<br>\n",
    "\n",
    "Para mais informações, verificar a <a href=\"https://developer.mozilla.org/pt-BR/docs/Web/HTML/Element/div\">documentação oficial</a>."
   ]
  },
  {
   "cell_type": "markdown",
   "metadata": {},
   "source": [
    "<h2>Para saber mais: dordas</h2>\n",
    "<p>\n",
    "A propriedade border é responsável pelas bordas dos elementos HTML. Ao inserir um elemento em um documento HTML, há várias possibilidades de estilizar sua borda. Você pode utilizar estilos que a propriedade já possui, além de poder também alterar sua cor, espessura e até mesmo seu formato! Utilizando apenas o poder do CSS!<br>\n",
    "<br>\n",
    "\n",
    "Para mais informações ler o <a href=\"https://www.alura.com.br/artigos/css-border-estilizando-bordas-elementos-css\">artigo</a>."
   ]
  },
  {
   "cell_type": "markdown",
   "metadata": {},
   "source": [
    "<h1 style=\"colorcornflowerblue\">Ajustando o Espaçamento</h1>"
   ]
  }
 ],
 "metadata": {
  "language_info": {
   "name": "python"
  }
 },
 "nbformat": 4,
 "nbformat_minor": 2
}
