{
 "cells": [
  {
   "cell_type": "markdown",
   "metadata": {},
   "source": [
    "<h1 style=\"color:cornflowerblue\">Preparando o Layout do Projeto</h1>"
   ]
  },
  {
   "cell_type": "markdown",
   "metadata": {},
   "source": [
    "<h2>Estilizando os Links</h2>\n",
    "<p>\n",
    "O novo projeto possui uma segunda página com informações, além de algumas alterações na página inicial.<br>\n",
    "Na página inicial foi adicionado e estilizado um subtítulo e algumas mudanças na borda dos botões.<br>\n",
    "A documentação do estilo da borda pode ser vista na <a href=\"https://www.w3schools.com/css/css_border.asp\">documentação</a> e algumas informações podem ser visualizadas nesse <a href=\"https://www.alura.com.br/artigos/css-border-estilizando-bordas-elementos-css\">artigo</a>.\n",
    "</p>\n",
    "<p>\n",
    "Também foram apresentados os modos de adicionar comentário no HTML e CSS:\n",
    "<li>HTML: <code>< !-- Isso é um comentário e será ignorado  -- ></code>\n",
    "<li>CSS: <code>/* Isso é um comentário em CSS */</code>"
   ]
  },
  {
   "cell_type": "markdown",
   "metadata": {},
   "source": [
    "<h1 style=\"color:cornflowerblue\">Criando Ícones Clicáveis</h1>"
   ]
  },
  {
   "cell_type": "markdown",
   "metadata": {},
   "source": [
    "<h2>Ícones de Redes Sociais</h2>\n",
    "<p>\n",
    "Foram adicionadas imagens das redes sociais nas âncoras. Para isso a Tag < img > foi adicionada dentro da tag das âncoras, além da estilização do CSS de posicionamento.<br>\n",
    "Foi adicionada a estilização de hover nas âncoras, com o código CSS: <code> .apresentacao__links__link:hover { }</code>. Para mais informações do efeito de hover, acessar a <a href=\"https://www.w3schools.com/CSSref/sel_hover.php\">documentação</a>.\n",
    "</p>"
   ]
  },
  {
   "cell_type": "markdown",
   "metadata": {},
   "source": [
    "<h1 style=\"color:cornflowerblue\">Criando header e footer</h1>"
   ]
  },
  {
   "cell_type": "markdown",
   "metadata": {},
   "source": [
    "<h2>Adicionando Header e Footer</h2>\n",
    "<p>\n",
    "Visto conteúdos para personalização de Header e Footer. No Footer foi trabalhado o tamanho do conteiner e o padding. No header foi trabalhado na tag < nav > e adicionados os elementos principais do menu.<br>\n",
    "<br>\n",
    "\n",
    "Ainda: o modifiquei o projeto, espaçamentos e conteúdos para que a página seja voltada para mim. "
   ]
  },
  {
   "cell_type": "markdown",
   "metadata": {},
   "source": [
    "<h1 style=\"color:cornflowerblue\">Navegando entre Páginas</h1>"
   ]
  },
  {
   "cell_type": "markdown",
   "metadata": {},
   "source": [
    "<h2>Estilizando o Cabeçalho</h2>\n",
    "<p>\n",
    "Para estilizar o cabeçalho, além das propriedades de fonte, será utilizado o Padding para dar espaçamento das bardas. Os detalhes do Padding podem ser visualizados na <a href=\"https://www.w3schools.com/cssref/pr_padding.php\">documentação</a>. Vale ressaltar que dependendo da quantidade de valores informados na propriedade, muda o modo como o padding atua na página.\n",
    "</p>\n",
    "\n",
    "<p>\n",
    "Criação da página \"sobre\" e adicionado o mesmo arquivo css. Nesse caso foi utilizado o mesmo arquivo CSS por conta da estilização da página ser a mesma, mas poderiam ter sido criados outros arquivos.\n",
    "</p>"
   ]
  },
  {
   "cell_type": "markdown",
   "metadata": {},
   "source": [
    "<h1 style=\"color:cornflowerblue\">Aplicando Variáveis CSS</h1>"
   ]
  },
  {
   "cell_type": "markdown",
   "metadata": {},
   "source": [
    "<h2>Conteúdo da página sobre mim</h2>\n",
    "<p>\n",
    "O conteúdo da página segue a estilização realizada anteriormente. Pontos importantes nessa atividade foram a estruturação de acordo com a página index, com as referências de classe para que herdem o mesmo estilo.\n",
    "</p>"
   ]
  },
  {
   "cell_type": "markdown",
   "metadata": {},
   "source": [
    "<h2>Variáveis CSS</h2>\n",
    "<p>\n",
    "Como alguns itens foram repetidos em diversos pontos do código CSS, como as cores por exemplo, eles podem ser armazenados em variáveis. Mais informações podem ser vistos no <a href=\"https://developer.mozilla.org/pt-BR/docs/Web/CSS/Using_CSS_custom_properties\">artigo</a>.<br>\n",
    "Para este caso será utilizada uma variável global, já que os elementos repetidos estão em diversas classes. Segue o Exemplo:\n",
    "<li><code>:root {--contrast-color: #22D4FD}</code>\n",
    "<li><code>.classe{color: var(--contrast-color)}</code>\n",
    "</p>"
   ]
  }
 ],
 "metadata": {
  "language_info": {
   "name": "python"
  }
 },
 "nbformat": 4,
 "nbformat_minor": 2
}
