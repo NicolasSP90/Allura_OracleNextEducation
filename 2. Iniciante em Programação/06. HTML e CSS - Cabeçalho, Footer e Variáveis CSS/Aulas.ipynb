{
 "cells": [
  {
   "cell_type": "markdown",
   "metadata": {},
   "source": [
    "<h1 style=\"color:cornflowerblue\">Preparando o Layout do Projeto</h1>"
   ]
  },
  {
   "cell_type": "markdown",
   "metadata": {},
   "source": [
    "<h2>Estilizando os Links</h2>\n",
    "<p>\n",
    "O novo projeto possui uma segunda página com informações, além de algumas alterações na página inicial.<br>\n",
    "Na página inicial foi adicionado e estilizado um subtítulo e algumas mudanças na borda dos botões.<br>\n",
    "A documentação do estilo da borda pode ser vista na <a href=\"https://www.w3schools.com/css/css_border.asp\">documentação</a> e algumas informações podem ser visualizadas nesse <a href=\"https://www.alura.com.br/artigos/css-border-estilizando-bordas-elementos-css\">artigo</a>.\n",
    "</p>\n",
    "<p>\n",
    "Também foram apresentados os modos de adicionar comentário no HTML e CSS:\n",
    "<li>HTML: <code>< !-- Isso é um comentário e será ignorado  -- ></code>\n",
    "<li>CSS: <code>/* Isso é um comentário em CSS */</code>"
   ]
  }
 ],
 "metadata": {
  "language_info": {
   "name": "python"
  }
 },
 "nbformat": 4,
 "nbformat_minor": 2
}
