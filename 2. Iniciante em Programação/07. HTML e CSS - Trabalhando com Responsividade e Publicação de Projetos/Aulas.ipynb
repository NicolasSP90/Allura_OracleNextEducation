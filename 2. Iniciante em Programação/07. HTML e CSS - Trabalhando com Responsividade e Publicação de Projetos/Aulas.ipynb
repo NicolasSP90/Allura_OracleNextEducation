{
 "cells": [
  {
   "cell_type": "markdown",
   "metadata": {},
   "source": [
    "<h1 style=\"color:cornflowerblue\">Unidade de Medidas</h1>"
   ]
  },
  {
   "cell_type": "markdown",
   "metadata": {},
   "source": [
    "<h2>Unidade de Medida REM</h2>\n",
    "<p>\n",
    "O projeto até o momento contemplou um tamanho da fonte padrão, em pixels. Caso o usuário decida alterar as configurações de tamanho de fonte do navegador, as fontes do site não acompanham essa mudança. Para mudar isso, é preciso entender que o CSS possui dois tipos de medidas, absolutas (que foram utilizadas até agora) e relativas. Mais informações podem ser visualizadas no <a href=\"https://www.w3schools.com/cssref/css_units.php\">artigo</a>.\n",
    "</p>\n",
    "\n",
    "<p>\n",
    "Para esse caso a unidade será alterada de pixels para rem, na relação 1 rem = 16 px. A unidade rem é relativa as propriedades de tamanho de fonte do próprio navegador, então a visualização vai acompanhar as configurações especificadas pelo usuário.\n",
    "</p>"
   ]
  },
  {
   "cell_type": "markdown",
   "metadata": {},
   "source": [
    "<h1 style=\"color:cornflowerblue\">Adaptando Elementos</h1>"
   ]
  },
  {
   "cell_type": "markdown",
   "metadata": {},
   "source": [
    "<h1>Unidade de Medida</h1>\n",
    "<p>\n",
    "Nas unidades de medida, é possível unidades genéricas, que se adaptam ao formato. Caso seja utilizado porcentagem, o elemento vai ter aquela proporção em relação ao elemento pai. Ex:\n",
    "\n",
    "<pre><code>\n",
    "< div class=\"div1\" >\n",
    "    < div class=\"div2\" >\n",
    "\n",
    ".div2{width: 100%}\n",
    "</code></pre>\n",
    "\n",
    "Nesse caso, a div2 vai ter um comprimento igual a 100% da div1.\n",
    "</p>"
   ]
  },
  {
   "cell_type": "markdown",
   "metadata": {},
   "source": [
    "<h1 style=\"color:cornflowerblue\">Responsividade</h1>"
   ]
  },
  {
   "cell_type": "markdown",
   "metadata": {},
   "source": [
    "<h1>Media Queries</h1>\n",
    "<p>\n",
    "O Media Queries é um propriedade do CSS para definir os elementos da tela de acordo com o tamanho dela. Detalhes podem ser verificados na <a href=\"https://developer.mozilla.org/pt-BR/docs/Web/CSS/Media_Queries/Using_media_queries\">documentação</a>.<br>\n",
    "Com isso, é possível redefinir as propriedades das classes anteriores para uma cada condição, por exemplo um tamanho de tela entre 300 e 700pixels:\n",
    "<li><code>@media (min-width:300) and (max-width:700) { .classe {propriedades adicionadas }}</code>\n",
    "</p>"
   ]
  },
  {
   "cell_type": "markdown",
   "metadata": {},
   "source": [
    "<h1 style=\"color:cornflowerblue\">Responsividade e Github</h1>"
   ]
  },
  {
   "cell_type": "markdown",
   "metadata": {},
   "source": [
    "<h2>Conteúdo Responsivo</h2>\n",
    "<p>\n",
    "Seguindo a lógica anterior, o conteúdo ao diminuir a tela parece estar sendo achatado, por conta disso, o padding será alterado no css responsivo, dentro da @media. Nesse caso foi utilizado o padding de 5% e em conjunto, foi alterado o width que inicialmente era de 50% para auto.<br>\n",
    "<br>\n",
    "\n",
    "Diferença entre 100% e auto:\n",
    "<li>100%: caso o diretório pai seja de 500px, o conteúdo vai ocupar o espaço inteiro, ou seja 500px;\n",
    "<li>auto: caso o diretório pai seja de 500px, o conteúdo vai ocupar o espaço inteiro apenas se for necessário.\n",
    "</p>\n",
    "\n",
    "<p>\n",
    "Por fim o projeto foi adicionado no github (etapa já feita desde o início). Para algumas informações adicionais foram disponibilizados os seguintes materiais:\n",
    "<li><a href=\"https://www.alura.com.br/artigos/como-trabalhar-com-markdown\">Artigo Markdown</a>\n",
    "<li><a href=\"https://github.com/alura-cursos/readme-template\">Template Readme</a>\n",
    "<li><a href=\"https://github.com/vanessametonini/aluramidi-curso/blob/master/README.md\">Readme Alura Midi</a>\n",
    "<li><a href=\"https://github.com/alura-cursos/android-com-kotlin-personalizando-ui/blob/master/README.md\">Readme Alura Kotlin</a>\n",
    "</p>"
   ]
  }
 ],
 "metadata": {
  "language_info": {
   "name": "python"
  }
 },
 "nbformat": 4,
 "nbformat_minor": 2
}
