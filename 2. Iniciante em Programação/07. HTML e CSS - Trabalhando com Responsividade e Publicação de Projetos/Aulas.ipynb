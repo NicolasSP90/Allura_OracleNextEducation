{
 "cells": [
  {
   "cell_type": "markdown",
   "metadata": {},
   "source": [
    "<h1 style=\"color:cornflowerblue\">Unidade de Medidas</h1>"
   ]
  },
  {
   "cell_type": "markdown",
   "metadata": {},
   "source": [
    "<h2>Unidade de Medida REM</h2>\n",
    "<p>\n",
    "O projeto até o momento contemplou um tamanho da fonte padrão, em pixels. Caso o usuário decida alterar as configurações de tamanho de fonte do navegador, as fontes do site não acompanham essa mudança. Para mudar isso, é preciso entender que o CSS possui dois tipos de medidas, absolutas (que foram utilizadas até agora) e relativas. Mais informações podem ser visualizadas no <a href=\"https://www.w3schools.com/cssref/css_units.php\">artigo</a>.\n",
    "</p>\n",
    "\n",
    "<p>\n",
    "Para esse caso a unidade será alterada de pixels para rem, na relação 1 rem = 16 px. A unidade rem é relativa as propriedades de tamanho de fonte do próprio navegador, então a visualização vai acompanhar as configurações especificadas pelo usuário.\n",
    "</p>"
   ]
  }
 ],
 "metadata": {
  "language_info": {
   "name": "python"
  }
 },
 "nbformat": 4,
 "nbformat_minor": 2
}
