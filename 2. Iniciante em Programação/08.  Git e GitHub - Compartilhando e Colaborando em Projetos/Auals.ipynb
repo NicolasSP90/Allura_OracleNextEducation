{
 "cells": [
  {
   "cell_type": "markdown",
   "metadata": {},
   "source": [
    "<h1 style=\"color:cornflowerblue\">Compartilhando Projetos</h1>"
   ]
  },
  {
   "cell_type": "markdown",
   "metadata": {},
   "source": [
    "<h2>Lista de Comandos das Aulas</h2>\n",
    "<li>git config --global user.name \"usuário\" - define o usuário\n",
    "<li>git config --global user.email \"email\" - define o email\n",
    "<li>git init - inicia o repositório\n",
    "<li>git status - verifica o status do repositório e arquivos\n",
    "<li>git add . - adiciona todos os arquivos como STAGED\n",
    "<li>git commit -m \"mensagem\" - Vai commitar TODOS os arquivos\n",
    "<li>git commit -a -m \"mensagem\" - Vai commitar os arquivos STAGED apenas\n"
   ]
  },
  {
   "cell_type": "markdown",
   "metadata": {},
   "source": [
    "<h2>Criando um repositório</h2>\n",
    "<p>\n",
    "Alguns pontos importantes:\n",
    "<li>O nome do repositório deve ser único PARA A CONTA\n",
    "<li>Após a criação do repositório em nuvem, deve ser vinculado o repositório local (git remote add origin \"linkdoprojeto.git\").\n",
    "</p>"
   ]
  },
  {
   "cell_type": "markdown",
   "metadata": {},
   "source": [
    "<h2>Sincronizando repositórios</h2>\n",
    "<p>\n",
    "Um ponto importante é que deve ser feita uma autenticação do computador para vincular com a conta no github. Para isso, é necessário acessar as configurações da conta>SSH and GPG Keys. Nessa aba pode ser adicionada um nova chave. Utilizar a documentação para gerar e vincular a chave.\n",
    "<li>\n"
   ]
  }
 ],
 "metadata": {
  "language_info": {
   "name": "python"
  }
 },
 "nbformat": 4,
 "nbformat_minor": 2
}
