{
 "cells": [
  {
   "cell_type": "markdown",
   "metadata": {},
   "source": [
    "<h1 style=\"color:cornflowerblue\">Compartilhando Projetos</h1>"
   ]
  },
  {
   "cell_type": "markdown",
   "metadata": {},
   "source": [
    "<h2>Criando um repositório</h2>\n",
    "<p>\n",
    "Alguns pontos importantes:\n",
    "<li>O nome do repositório deve ser único PARA A CONTA\n",
    "<li>Após a criação do repositório em nuvem, deve ser vinculado o repositório local.\n",
    "</p>"
   ]
  },
  {
   "cell_type": "markdown",
   "metadata": {},
   "source": [
    "<h2>Sincronizando repositórios</h2>\n",
    "<p>\n",
    "Um ponto importante é que deve ser feita uma autenticação do computador para vincular com a conta no github. Para isso, é necessário acessar as configurações da conta>SSH and GPG Keys. Nessa aba pode ser adicionada um nova chave. Utilizar a documentação para gerar e vincular a chave.<br>\n",
    "<br>\n",
    "\n",
    "Também pode ser feita a <a href=\"https://www.alura.com.br/artigos/nova-exigencia-do-git-de-autenticacao-por-token-o-que-e-o-que-devo-fazer\">autenticação por token</a>.<br>\n",
    "<br>\n",
    "\n",
    "Após isso é possível usar o comando do git para adicionar um reposiório na núvem e depois realizar um push para enviar os arquivos.\n"
   ]
  },
  {
   "cell_type": "markdown",
   "metadata": {},
   "source": [
    "<h1 style=\"color:cornflowerblue\">Colaborando em Projetos</h1>"
   ]
  },
  {
   "cell_type": "markdown",
   "metadata": {},
   "source": [
    "<h2>Clonando um repositório</h2>\n",
    "<p>\n",
    "Existem algumas formas de adquirir os arquivos de um repositório do github. Uma delas é fazendo o download dos arquivos. A outra é utilizar o terminal e utilizar o comando de clonar o repositório. Será criado o diretório do projeto no local em que o repositório foi clonado. O repositório será clonado localmente, com o seu próprio repositório local.<br>\n",
    "<br>\n",
    "\n",
    "Po padrão um repositório público pode ser clonado e visualizado por outros usuários, mas para possa ser feito um push do repositório, é necessário que usuários sejam adicionados como colaboradores daquele repositório. Para isso, nas configurações do repositório (no github), existe uma aba de colaboradores, onde podem ser adicionadas pessoas como colaboradores no projeto. A partir disso, outras pessoas indicadas podem fazer push apra este repositório."
   ]
  },
  {
   "cell_type": "markdown",
   "metadata": {},
   "source": [
    "<h2>Lista de Comandos das Aulas</h2>\n",
    "<li>git config --global user.name \"usuário\" - define o usuário\n",
    "<li>git config --global user.email \"email\" - define o email\n",
    "<li>git init - inicia o repositório\n",
    "<li>git status - verifica o status do repositório e arquivos\n",
    "<li>git add . - adiciona todos os arquivos como STAGED\n",
    "<li>git commit -m \"mensagem\" - Vai commitar TODOS os arquivos\n",
    "<li>git commit -a -m \"mensagem\" - Vai commitar os arquivos STAGED apenas\n",
    "<li>git commit --amend -m \"mensagem\" - Vai commitar TODOS os arquivos revisando a versão mais recente\n",
    "<li>git remote add origin \"linkdoprojeto.git\"\n",
    "<li>git remote - verifica os repositórios remotos\n",
    "<li>git push origin master - Envia a branch master para origin\n",
    "<li>git push origin master --force - Envia a branch master para origin de maneira forçada (ignora outros commits e versoes)\n",
    "<li>git pull origin master - Puxa os arquivos do repositório remoto para o local\n",
    "<li>git clone \"linkdoprojeto.git\" - clona o repositório\n",
    "<li>git log - histórico dos commits feitos ao longo do projeto\n"
   ]
  }
 ],
 "metadata": {
  "language_info": {
   "name": "python"
  }
 },
 "nbformat": 4,
 "nbformat_minor": 2
}
