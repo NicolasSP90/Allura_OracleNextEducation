{
 "cells": [
  {
   "cell_type": "markdown",
   "metadata": {},
   "source": [
    "<h1 style=\"color:cornflowerblue\">Compartilhando Projetos</h1>"
   ]
  },
  {
   "cell_type": "markdown",
   "metadata": {},
   "source": [
    "<h2>Criando um repositório</h2>\n",
    "<p>\n",
    "Alguns pontos importantes:\n",
    "<li>O nome do repositório deve ser único PARA A CONTA\n",
    "<li>Após a criação do repositório em nuvem, deve ser vinculado o repositório local.\n",
    "</p>"
   ]
  },
  {
   "cell_type": "markdown",
   "metadata": {},
   "source": [
    "<h2>Sincronizando repositórios</h2>\n",
    "<p>\n",
    "Um ponto importante é que deve ser feita uma autenticação do computador para vincular com a conta no github. Para isso, é necessário acessar as configurações da conta>SSH and GPG Keys. Nessa aba pode ser adicionada um nova chave. Utilizar a documentação para gerar e vincular a chave.<br>\n",
    "<br>\n",
    "\n",
    "Também pode ser feita a <a href=\"https://www.alura.com.br/artigos/nova-exigencia-do-git-de-autenticacao-por-token-o-que-e-o-que-devo-fazer\">autenticação por token</a>.<br>\n",
    "<br>\n",
    "\n",
    "Após isso é possível usar o comando do git para adicionar um reposiório na núvem e depois realizar um push para enviar os arquivos.\n"
   ]
  },
  {
   "cell_type": "markdown",
   "metadata": {},
   "source": [
    "<h1 style=\"color:cornflowerblue\">Colaborando em Projetos</h1>"
   ]
  },
  {
   "cell_type": "markdown",
   "metadata": {},
   "source": [
    "<h2>Clonando um repositório</h2>\n",
    "<p>\n",
    "Existem algumas formas de adquirir os arquivos de um repositório do github. Uma delas é fazendo o download dos arquivos. A outra é utilizar o terminal e utilizar o comando de clonar o repositório. Será criado o diretório do projeto no local em que o repositório foi clonado. O repositório será clonado localmente, com o seu próprio repositório local.<br>\n",
    "<br>\n",
    "\n",
    "Po padrão um repositório público pode ser clonado e visualizado por outros usuários, mas para possa ser feito um push do repositório, é necessário que usuários sejam adicionados como colaboradores daquele repositório. Para isso, nas configurações do repositório (no github), existe uma aba de colaboradores, onde podem ser adicionadas pessoas como colaboradores no projeto. A partir disso, outras pessoas indicadas podem fazer push apra este repositório.<br>\n",
    "<br>\n",
    "\n",
    "Para adicionar coautores, pode ser feito da seguinte forma :<br>\n",
    "<code>git commit -m \"Adicionar nova funcionalidade.<br>\n",
    "<br>\n",
    "<br>\n",
    "Co-authored-by: NOME < nome@email.com ><br>\n",
    "Co-authored-by: OUTRO-NOME <outro@email.com>\"</code>\n",
    "</p>"
   ]
  },
  {
   "cell_type": "markdown",
   "metadata": {},
   "source": [
    "<h2>Outras formas de colaborar</h2>\n",
    "<p>\n",
    "Existem diversos projetos de software com seu código fonte disponível no GitHub e abertos para colaboração de qualquer um que queira contribuir. Esse modelo de desenvolvimento é chamado de Open Source ou Código Aberto.<br>\n",
    "<br>\n",
    "\n",
    "Caso queira entender mais sobre projetos Open Source, temos aqui na Alura o artigo <a href=\"https://www.alura.com.br/artigos/open-source-uma-breve-introducao\">Open Source - Uma breve introdução</a>, que fala mais sobre o tema.<br>\n",
    "<br>\n",
    "\n",
    "Em um projeto que segue o modelo Open Source, as demandas, como novos recursos e correção de bugs, são descritas e listadas no repositório do GitHub via issues. Assim, caso você queira colaborar, é possível escolher uma issue.<br>\n",
    "<br>\n",
    "\n",
    "Você precisará realizar um fork do projeto, que é uma cópia do repositório em sua conta. Assim, você poderá escrever o código que soluciona a issue escolhida.<br>\n",
    "<br>\n",
    "\n",
    "Por fim, para enviar sua solução de volta ao repositório fonte, você precisará abrir um pull request, que é uma solicitação de pull das suas alterações. Esse pull request passará por um processo de avaliação dos responsáveis pelo projeto, podendo ser aceito ou não.<br>\n",
    "<br>\n",
    "\n",
    "Caso seja aceito, seu código agora fará parte do código fonte desse projeto.<br>\n",
    "<br>\n",
    "\n",
    "É importante sempre se atentar às regras de contribuição de cada repositório, que podem variar de acordo com o projeto.<br>\n",
    "<br>\n",
    "\n",
    "Grandes projetos são Open Source e se encontram no GitHub, como a IDE VS Code e o framework React, do JavaScript. Você pode conferir os repositórios desses projetos nos links abaixo:<br>\n",
    "<br>\n",
    "\n",
    "<a href=\"https://github.com/microsoft/vscode\">Repositório do VS Code no Github</a><br>\n",
    "<a href=\"\">Repositório do React no Github</a>\n",
    "</p>"
   ]
  },
  {
   "cell_type": "markdown",
   "metadata": {},
   "source": [
    "<h1 style=\"color:cornflowerblue\">Utilizando Git na IDE</h1>"
   ]
  },
  {
   "cell_type": "markdown",
   "metadata": {},
   "source": [
    "<h2>Git no VSCode</h2>\n",
    "<p>\n",
    "As IDEs possuem algumas interfaces visuais para lidar com o git. O VSCode, por exemplo, existe a aba de Source Control que gerencia o git. Algumas questões:\n",
    "<li>Na aba de Source Control, é visualizado os arquivos modificados. Eles podem ser Abertos, Descartar a Alteração e Staged (commando add);\n",
    "<li>Na mesma aba de Source Control, é possível digitar a mensagem de alteração e realizar o commit pelo próprio botão;\n",
    "<li>Também podem ser feitos commit ammend, commit + push e commit + sync;\n",
    "</p>"
   ]
  },
  {
   "cell_type": "markdown",
   "metadata": {
    "vscode": {
     "languageId": "plaintext"
    }
   },
   "source": [
    "<h2>Resolvendo Conflitos</h2>\n",
    "<p>\n",
    "Pode ocorrer de mais de uma pessoa fazer alteração no mesmo arquivo e na mesma linha de código. Quando isso ocorre, o git informa a situação e é esperado um comando para solução por parte dos usuários. Quando ocorre um conflito o git altera os arquivos e dá indicações dos locais que geraram o problema. Para corrigir, pode-se corrigir o arquivo com o código correto e gerar novamente um commit e após push/pull.<br>\n",
    "Mais informações podem ser verificadas em?\n",
    "<li><a href=\"https://learn.microsoft.com/pt-br/visualstudio/version-control/git-with-visual-studio?view=vs-2022\">Como o Visual Studio facilita o controle de versão com o Git</a>\n",
    "<li><a href=\"https://learn.microsoft.com/pt-br/visualstudio/version-control/git-resolve-conflicts?view=vs-2022\">Como resolver conflitos de mesclagem no Visual Studio</a>\n",
    "<li><a href=\"https://www.youtube.com/watch?v=HosPml1qkrg\">Um guia muito útil para mesclar conflitos - em Inglês</a>"
   ]
  },
  {
   "cell_type": "markdown",
   "metadata": {},
   "source": [
    "<h1 style=\"color:cornflowerblue\">Voltando no Tempo</h2>"
   ]
  },
  {
   "cell_type": "markdown",
   "metadata": {},
   "source": [
    "<h2>Desfazendo um Commit</h2>\n",
    "<p>Pode acontecer de ser necessário retornar para uma determinada versão do código. Para isso pode-se usar o comando <code>git log</code> para ver os commits realizados e seu ID. Para retornar é necessário utilizar o comando <code>git revert \"ID do commit\"</code>. Esse comando gera um novo commit que reverte o projeto para aquela situação informada.\n",
    "</p>"
   ]
  },
  {
   "cell_type": "markdown",
   "metadata": {},
   "source": [
    "<h2>Resetando um Commit</h2>\n",
    "<p>As vezes pode ser necessário excluir/apagar um determinado commit do versionamento. Para reaizar essa ação é necessário utilizado o código <code>git reset --hard \"ID do Commit\"</code>. Nesse caso o ID utilizado não é aquele que se deseja apagar, mas sim o commit que será utilizado como versão base do projeto nesse momento.<br>\n",
    "Mais opções relacionadas ao comando reset na <a href=\"https://git-scm.com/docs/git-reset/pt_BR\">documentação</a>.\n",
    "</p>"
   ]
  },
  {
   "cell_type": "markdown",
   "metadata": {},
   "source": [
    "<h2>Alterando o Último Commit</h2>\n",
    "<p>É possível alterar o último commit realizado utilizando o código <code>git commit --amend -m \"mensagem\"</code>. Dessa forma as mudanças atuais serão adicionadas no último commit feito.<br>\n",
    "<br>\n",
    "\n",
    "É importante ressaltar que todas essas mudanças devem ser feitas, preferecialmente no versionamento local, antes de realizar um push, de modo que não interfira no versionamento do projeto em todos os repositórios e usuários.\n",
    "</p>"
   ]
  },
  {
   "cell_type": "markdown",
   "metadata": {},
   "source": [
    "<h1 style=\"color:cornflowerblue\">Mais Recursos</h1>"
   ]
  },
  {
   "cell_type": "markdown",
   "metadata": {},
   "source": [
    "<h1 style=\"color:cornflowerblue\">Lista de Comandos das Aulas</h1>\n",
    "<li><code>git config --global user.name \"usuário\"</code> - define o usuário\n",
    "<li><code>git config --global user.email \"email\"</code> - define o email\n",
    "<li><code>git init</code> - inicia o repositório\n",
    "<li><code>git status</code> - verifica o status do repositório e arquivos\n",
    "<li><code>git add .</code> - adiciona todos os arquivos como STAGED\n",
    "<li><code>git commit -m \"mensagem\"</code> - Vai commitar TODOS os arquivos\n",
    "<li><code>git commit -a -m \"mensagem\"</code> - Vai commitar os arquivos STAGED apenas\n",
    "<li><code>git commit --amend -m \"mensagem\"</code> - Vai commitar TODOS os arquivos revisando a versão mais recente\n",
    "<li><code>git remote add origin \"linkdoprojeto.git\"</code>\n",
    "<li><code>git remote</code> - verifica os repositórios remotos\n",
    "<li><code>git push origin main</code> - Envia a branch main para origin\n",
    "<li><code>git push -u origin main</code> - Envia a branch main para origin. Esse comando rastreia a branch e os comandos de push posteriores não precisam especificar as branches.\n",
    "<li><code>git push origin main --force</code> - Envia a branch main para origin de maneira forçada (ignora outros commits e versoes)\n",
    "<li><code>git push origin --delete master</code> - Deleta a branch remota master\n",
    "<li><code>git pull origin main</code> - Puxa os arquivos do repositório remoto para o local\n",
    "<li><code>git clone \"linkdoprojeto.git\"</code> - clona o repositório\n",
    "<li><code>git log</code> - histórico dos commits feitos ao longo do projeto\n",
    "<li><code>git branch -m nomeantigo nomenovo</code> - renomeia a branch\n",
    "<li><code>git diff</code> - exibe as mudanças entre os commits, o commit, a árvore de trabalho, etc\n",
    "<li><code>git revert \"ID do commit\"</code> -  Esse comando gera um novo commit que reverte o projeto para aquela situação informada\n",
    "<li><code>git reset --hard \"ID do Commit\"</code> - Retorna para um commit especifico e descarta todos os subsequentes\n",
    "\n"
   ]
  },
  {
   "cell_type": "markdown",
   "metadata": {},
   "source": []
  },
  {
   "cell_type": "markdown",
   "metadata": {},
   "source": []
  }
 ],
 "metadata": {
  "language_info": {
   "name": "python"
  }
 },
 "nbformat": 4,
 "nbformat_minor": 2
}
