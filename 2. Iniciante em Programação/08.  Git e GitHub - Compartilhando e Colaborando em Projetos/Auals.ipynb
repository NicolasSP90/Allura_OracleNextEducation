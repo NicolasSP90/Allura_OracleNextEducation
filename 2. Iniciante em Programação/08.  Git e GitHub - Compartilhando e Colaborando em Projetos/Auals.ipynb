{
 "cells": [
  {
   "cell_type": "markdown",
   "metadata": {},
   "source": [
    "<h1 style=\"color:cornflowerblue\">Compartilhando Projetos</h1>"
   ]
  },
  {
   "cell_type": "markdown",
   "metadata": {},
   "source": [
    "<h2>Criando um repositório</h2>\n",
    "<p>\n",
    "Alguns pontos importantes:\n",
    "<li>O nome do repositório deve ser único PARA A CONTA\n",
    "<li>Após a criação do repositório em nuvem, deve ser vinculado o repositório local.\n",
    "</p>"
   ]
  },
  {
   "cell_type": "markdown",
   "metadata": {},
   "source": [
    "<h2>Sincronizando repositórios</h2>\n",
    "<p>\n",
    "Um ponto importante é que deve ser feita uma autenticação do computador para vincular com a conta no github. Para isso, é necessário acessar as configurações da conta>SSH and GPG Keys. Nessa aba pode ser adicionada um nova chave. Utilizar a documentação para gerar e vincular a chave.<br>\n",
    "<br>\n",
    "\n",
    "Também pode ser feita a <a href=\"https://www.alura.com.br/artigos/nova-exigencia-do-git-de-autenticacao-por-token-o-que-e-o-que-devo-fazer\">autenticação por token</a>.<br>\n",
    "<br>\n",
    "\n",
    "Após isso é possível usar o comando do git para adicionar um reposiório na núvem e depois realizar um push para enviar os arquivos.\n"
   ]
  },
  {
   "cell_type": "markdown",
   "metadata": {},
   "source": [
    "<h1 style=\"color:cornflowerblue\">Colaborando em Projetos</h1>"
   ]
  },
  {
   "cell_type": "markdown",
   "metadata": {},
   "source": [
    "<h2>Clonando um repositório</h2>\n",
    "<p>\n",
    "Existem algumas formas de adquirir os arquivos de um repositório do github. Uma delas é fazendo o download dos arquivos. A outra é utilizar o terminal e utilizar o comando de clonar o repositório. Será criado o diretório do projeto no local em que o repositório foi clonado. O repositório será clonado localmente, com o seu próprio repositório local.<br>\n",
    "<br>\n",
    "\n",
    "Po padrão um repositório público pode ser clonado e visualizado por outros usuários, mas para possa ser feito um push do repositório, é necessário que usuários sejam adicionados como colaboradores daquele repositório. Para isso, nas configurações do repositório (no github), existe uma aba de colaboradores, onde podem ser adicionadas pessoas como colaboradores no projeto. A partir disso, outras pessoas indicadas podem fazer push apra este repositório.<br>\n",
    "<br>\n",
    "\n",
    "Para adicionar coautores, pode ser feito da seguinte forma :<br>\n",
    "<code>git commit -m \"Adicionar nova funcionalidade.<br>\n",
    "<br>\n",
    "<br>\n",
    "Co-authored-by: NOME < nome@email.com ><br>\n",
    "Co-authored-by: OUTRO-NOME <outro@email.com>\"</code>\n",
    "</p>"
   ]
  },
  {
   "cell_type": "markdown",
   "metadata": {},
   "source": [
    "<h2>Outras formas de colaborar</h2>\n",
    "<p>\n",
    "Existem diversos projetos de software com seu código fonte disponível no GitHub e abertos para colaboração de qualquer um que queira contribuir. Esse modelo de desenvolvimento é chamado de Open Source ou Código Aberto.<br>\n",
    "<br>\n",
    "\n",
    "Caso queira entender mais sobre projetos Open Source, temos aqui na Alura o artigo <a href=\"https://www.alura.com.br/artigos/open-source-uma-breve-introducao\">Open Source - Uma breve introdução</a>, que fala mais sobre o tema.<br>\n",
    "<br>\n",
    "\n",
    "Em um projeto que segue o modelo Open Source, as demandas, como novos recursos e correção de bugs, são descritas e listadas no repositório do GitHub via issues. Assim, caso você queira colaborar, é possível escolher uma issue.<br>\n",
    "<br>\n",
    "\n",
    "Você precisará realizar um fork do projeto, que é uma cópia do repositório em sua conta. Assim, você poderá escrever o código que soluciona a issue escolhida.<br>\n",
    "<br>\n",
    "\n",
    "Por fim, para enviar sua solução de volta ao repositório fonte, você precisará abrir um pull request, que é uma solicitação de pull das suas alterações. Esse pull request passará por um processo de avaliação dos responsáveis pelo projeto, podendo ser aceito ou não.<br>\n",
    "<br>\n",
    "\n",
    "Caso seja aceito, seu código agora fará parte do código fonte desse projeto.<br>\n",
    "<br>\n",
    "\n",
    "É importante sempre se atentar às regras de contribuição de cada repositório, que podem variar de acordo com o projeto.<br>\n",
    "<br>\n",
    "\n",
    "Grandes projetos são Open Source e se encontram no GitHub, como a IDE VS Code e o framework React, do JavaScript. Você pode conferir os repositórios desses projetos nos links abaixo:<br>\n",
    "<br>\n",
    "\n",
    "<a href=\"https://github.com/microsoft/vscode\">Repositório do VS Code no Github</a><br>\n",
    "<a href=\"\">Repositório do React no Github</a>\n",
    "</p>"
   ]
  },
  {
   "cell_type": "markdown",
   "metadata": {},
   "source": [
    "<h2>Lista de Comandos das Aulas</h2>\n",
    "<li>git config --global user.name \"usuário\" - define o usuário\n",
    "<li>git config --global user.email \"email\" - define o email\n",
    "<li>git init - inicia o repositório\n",
    "<li>git status - verifica o status do repositório e arquivos\n",
    "<li>git add . - adiciona todos os arquivos como STAGED\n",
    "<li>git commit -m \"mensagem\" - Vai commitar TODOS os arquivos\n",
    "<li>git commit -a -m \"mensagem\" - Vai commitar os arquivos STAGED apenas\n",
    "<li>git commit --amend -m \"mensagem\" - Vai commitar TODOS os arquivos revisando a versão mais recente\n",
    "<li>git remote add origin \"linkdoprojeto.git\"\n",
    "<li>git remote - verifica os repositórios remotos\n",
    "<li>git push origin main - Envia a branch main para origin\n",
    "<li>git push origin main --force - Envia a branch main para origin de maneira forçada (ignora outros commits e versoes)\n",
    "<li>git pull origin main - Puxa os arquivos do repositório remoto para o local\n",
    "<li>git clone \"linkdoprojeto.git\" - clona o repositório\n",
    "<li>git log - histórico dos commits feitos ao longo do projeto\n"
   ]
  }
 ],
 "metadata": {
  "language_info": {
   "name": "python"
  }
 },
 "nbformat": 4,
 "nbformat_minor": 2
}
